{
 "cells": [
  {
   "cell_type": "markdown",
   "id": "3e0659b0",
   "metadata": {},
   "source": [
    "# Cleaning Using Polars"
   ]
  },
  {
   "cell_type": "code",
   "execution_count": null,
   "id": "38ed8201",
   "metadata": {},
   "outputs": [],
   "source": [
    "import os\n",
    "import glob\n",
    "import warnings\n",
    "import polars as pl\n",
    "\n",
    "# ─── Suppress noisy warnings ──────────────────────────────────────────────────\n",
    "warnings.filterwarnings(\"ignore\")\n",
    "\n",
    "# ─── Raw regex strings ────────────────────────────────────────────────────────\n",
    "HTML_RX     = r\"<.*?>\"\n",
    "CLEAN_RX    = r\"[^a-zA-Z0-9\\s]\"\n",
    "WS_RX       = r\"\\s+\"\n",
    "TRIM_EDGES  = r\"^\\s+|\\s+$\"\n",
    "\n",
    "# ─── Polars expression for cleaning a single column ───────────────────────────\n",
    "def clean_expr(col_name: str) -> pl.Expr:\n",
    "    return (\n",
    "        pl.col(col_name).cast(str)\n",
    "          .str.replace_all(HTML_RX, \"\")\n",
    "          .str.replace_all(CLEAN_RX, \"\")\n",
    "          .str.replace_all(WS_RX, \" \")\n",
    "          .str.replace_all(TRIM_EDGES, \"\")\n",
    "    )\n",
    "\n",
    "def main():\n",
    "    data_dir    = \"../../parquet_output_2_extras_with_names\"\n",
    "    output_dir  = \"./cleaned_data_polars\"\n",
    "    html_fields = [\n",
    "        \"detailed_description\",\n",
    "        \"about_the_game\",\n",
    "        \"short_description\",\n",
    "        \"review\",\n",
    "    ]\n",
    "    os.makedirs(output_dir, exist_ok=True)\n",
    "\n",
    "    files = glob.glob(os.path.join(data_dir, \"*.parquet\"))\n",
    "    total = len(files)\n",
    "    print(f\"Found {total} files to clean\")\n",
    "\n",
    "    cleaned = 0\n",
    "    for path in files:\n",
    "        fname = os.path.basename(path)\n",
    "\n",
    "        # Read, clean, and write\n",
    "        df = pl.read_parquet(path)\n",
    "        exprs = [clean_expr(col) for col in html_fields if col in df.columns]\n",
    "        if exprs:\n",
    "            df = df.with_columns(exprs)\n",
    "        df.write_parquet(os.path.join(output_dir, fname), compression=\"snappy\")\n",
    "\n",
    "        # Update and overwrite the progress line\n",
    "        cleaned += 1\n",
    "        print(f\"\\rCleaned {cleaned}/{total} files\", end=\"\", flush=True)\n",
    "\n",
    "    print(\"\\n✅ All files cleaned and saved to\", output_dir)\n",
    "\n",
    "if __name__ == \"__main__\":\n",
    "    main()\n"
   ]
  }
 ],
 "metadata": {
  "kernelspec": {
   "display_name": "base",
   "language": "python",
   "name": "python3"
  },
  "language_info": {
   "codemirror_mode": {
    "name": "ipython",
    "version": 3
   },
   "file_extension": ".py",
   "mimetype": "text/x-python",
   "name": "python",
   "nbconvert_exporter": "python",
   "pygments_lexer": "ipython3",
   "version": "3.12.3"
  }
 },
 "nbformat": 4,
 "nbformat_minor": 5
}

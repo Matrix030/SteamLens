{
 "cells": [
  {
   "cell_type": "code",
   "execution_count": null,
   "id": "8f77d64e",
   "metadata": {},
   "outputs": [],
   "source": [
    "!pip install \"dask[complete]\" bertopic sentence-transformers umap-learn hdbscan joblib"
   ]
  },
  {
   "cell_type": "code",
   "execution_count": 1,
   "id": "4b2b2a77",
   "metadata": {},
   "outputs": [],
   "source": [
    "# ## 1. Imports and Global Setup\n",
    "\n",
    "# %%\n",
    "import os\n",
    "import gc\n",
    "import torch\n",
    "import cudf\n",
    "import dask_cudf\n",
    "import pandas as pd\n",
    "import numpy as np\n",
    "from sentence_transformers import SentenceTransformer\n",
    "from bertopic import BERTopic\n",
    "from hdbscan import HDBSCAN\n",
    "from cuml.manifold import UMAP as cuUMAP\n",
    "\n",
    "# Directory paths\n",
    "RAW_DIR       = \"../Step_3_analysis/top_100_parquet\"\n",
    "MODELS_DIR_L  = \"models/bertopic_en_L_gpu\"\n",
    "MODELS_DIR_M  = \"models/bertopic_en_M_gpu\"\n",
    "OUTPUT_DIR_L  = \"outputs/topic_labels_en_L_gpu\"\n",
    "OUTPUT_DIR_M  = \"outputs/topic_labels_en_M_gpu\"\n",
    "for d in [MODELS_DIR_L, MODELS_DIR_M, OUTPUT_DIR_L, OUTPUT_DIR_M]:\n",
    "    os.makedirs(d, exist_ok=True)\n",
    "\n",
    "# Instantiate a single GPU embedder\n",
    "EMBEDDER = SentenceTransformer(\"all-MiniLM-L6-v2\", device=\"cuda\")\n"
   ]
  },
  {
   "cell_type": "code",
   "execution_count": 2,
   "id": "c02146eb",
   "metadata": {},
   "outputs": [
    {
     "name": "stdout",
     "output_type": "stream",
     "text": [
      "Large games (>50k reviews): 41\n",
      "Medium games (10k–50k reviews): 58\n",
      "Small games (<10k reviews): 1\n"
     ]
    }
   ],
   "source": [
    "# ## 2. Compute English-Only Review Volumes & Buckets\n",
    "\n",
    "# %%\n",
    "# Read minimal columns to compute per-game counts\n",
    "ddf = dask_cudf.read_parquet(f\"{RAW_DIR}/*.parquet\",\n",
    "                             columns=[\"steam_appid\",\"review_language\"])\n",
    "vol = (\n",
    "    ddf[ddf.review_language == \"english\"]\n",
    "      .groupby(\"steam_appid\")\n",
    "      .size()\n",
    "      .compute()\n",
    "      .to_pandas()\n",
    "      .rename(\"review_count\")\n",
    ")\n",
    "\n",
    "# Define buckets\n",
    "LARGE_EN  = vol[vol > 50_000].index.to_list()\n",
    "MEDIUM_EN = vol[(vol >= 10_000) & (vol <= 50_000)].index.to_list()\n",
    "SMALL_EN  = vol[vol < 10_000].index.to_list()\n",
    "\n",
    "print(f\"Large games (>50k reviews): {len(LARGE_EN)}\")\n",
    "print(f\"Medium games (10k–50k reviews): {len(MEDIUM_EN)}\")\n",
    "print(f\"Small games (<10k reviews): {len(SMALL_EN)}\")"
   ]
  },
  {
   "cell_type": "code",
   "execution_count": 3,
   "id": "95484a7b",
   "metadata": {},
   "outputs": [],
   "source": [
    "# ## 3. Define Per-Game Processing Function\n",
    "\n",
    "# %%\n",
    "def process_game_gpu(app_id: str, bucket: str):\n",
    "    # 3.1 Load English reviews via cuDF\n",
    "    gdf = cudf.read_parquet(f\"{RAW_DIR}/{app_id}.parquet\")[[\"review_language\",\"review\"]]\n",
    "    gdf = gdf[gdf[\"review_language\"] == \"english\"].dropna(subset=[\"review\"])\n",
    "    texts = gdf[\"review\"].astype(str).to_pandas().tolist()\n",
    "    del gdf; gc.collect()\n",
    "    \n",
    "    # 3.2 Embed texts on GPU\n",
    "    embeddings = EMBEDDER.encode(\n",
    "        texts, batch_size=512, show_progress_bar=False, device=\"cuda\"\n",
    "    )\n",
    "    \n",
    "    # 3.3 Configure UMAP & HDBSCAN\n",
    "    umap_model    = cuUMAP(n_components=5, random_state=42)\n",
    "    min_size      = 100 if bucket == \"large\" else 20\n",
    "    hdbscan_model = HDBSCAN(min_cluster_size=min_size, core_dist_n_jobs=4)\n",
    "    \n",
    "    # 3.4 Fit BERTopic\n",
    "    topic_model = BERTopic(\n",
    "        embedding_model=EMBEDDER,\n",
    "        umap_model=umap_model,\n",
    "        hdbscan_model=hdbscan_model,\n",
    "        low_memory=(bucket == \"large\")\n",
    "    )\n",
    "    topics, _ = topic_model.fit_transform(texts, embeddings)\n",
    "    \n",
    "    # 3.5 Compute topic count before cleanup\n",
    "    n_topics = len(set(topics))\n",
    "    \n",
    "    # 3.6 Save model & labels\n",
    "    model_dir = MODELS_DIR_L if bucket == \"large\" else MODELS_DIR_M\n",
    "    out_dir   = OUTPUT_DIR_L if bucket == \"large\" else OUTPUT_DIR_M\n",
    "    topic_model.save(f\"{model_dir}/{app_id}\")\n",
    "    pd.DataFrame({\"review\": texts, \"topic\": topics}) \\\n",
    "      .to_csv(f\"{out_dir}/{app_id}.csv\", index=False)\n",
    "    \n",
    "    # 3.7 Cleanup GPU memory\n",
    "    del embeddings, topic_model, topics\n",
    "    gc.collect(); torch.cuda.empty_cache()\n",
    "    \n",
    "    return app_id, n_topics"
   ]
  },
  {
   "cell_type": "code",
   "execution_count": 4,
   "id": "e399de41",
   "metadata": {},
   "outputs": [
    {
     "name": "stdout",
     "output_type": "stream",
     "text": [
      "[2025-05-01 00:34:30.690] [CUML] [info] build_algo set to brute_force_knn because random_state is given\n"
     ]
    },
    {
     "name": "stderr",
     "output_type": "stream",
     "text": [
      "huggingface/tokenizers: The current process just got forked, after parallelism has already been used. Disabling parallelism to avoid deadlocks...\n",
      "To disable this warning, you can either:\n",
      "\t- Avoid using `tokenizers` before the fork if possible\n",
      "\t- Explicitly set the environment variable TOKENIZERS_PARALLELISM=(true | false)\n",
      "huggingface/tokenizers: The current process just got forked, after parallelism has already been used. Disabling parallelism to avoid deadlocks...\n",
      "To disable this warning, you can either:\n",
      "\t- Avoid using `tokenizers` before the fork if possible\n",
      "\t- Explicitly set the environment variable TOKENIZERS_PARALLELISM=(true | false)\n",
      "huggingface/tokenizers: The current process just got forked, after parallelism has already been used. Disabling parallelism to avoid deadlocks...\n",
      "To disable this warning, you can either:\n",
      "\t- Avoid using `tokenizers` before the fork if possible\n",
      "\t- Explicitly set the environment variable TOKENIZERS_PARALLELISM=(true | false)\n",
      "huggingface/tokenizers: The current process just got forked, after parallelism has already been used. Disabling parallelism to avoid deadlocks...\n",
      "To disable this warning, you can either:\n",
      "\t- Avoid using `tokenizers` before the fork if possible\n",
      "\t- Explicitly set the environment variable TOKENIZERS_PARALLELISM=(true | false)\n",
      "huggingface/tokenizers: The current process just got forked, after parallelism has already been used. Disabling parallelism to avoid deadlocks...\n",
      "To disable this warning, you can either:\n",
      "\t- Avoid using `tokenizers` before the fork if possible\n",
      "\t- Explicitly set the environment variable TOKENIZERS_PARALLELISM=(true | false)\n",
      "2025-05-01 00:34:42,927 - BERTopic - WARNING: When you use `pickle` to save/load a BERTopic model,please make sure that the environments in which you saveand load the model are **exactly** the same. The version of BERTopic,its dependencies, and python need to remain the same.\n"
     ]
    },
    {
     "name": "stdout",
     "output_type": "stream",
     "text": [
      "[2025-05-01 00:34:55.542] [CUML] [info] build_algo set to brute_force_knn because random_state is given\n"
     ]
    },
    {
     "name": "stderr",
     "output_type": "stream",
     "text": [
      "2025-05-01 00:35:02,135 - BERTopic - WARNING: When you use `pickle` to save/load a BERTopic model,please make sure that the environments in which you saveand load the model are **exactly** the same. The version of BERTopic,its dependencies, and python need to remain the same.\n"
     ]
    },
    {
     "name": "stdout",
     "output_type": "stream",
     "text": [
      "[2025-05-01 00:35:15.877] [CUML] [info] build_algo set to brute_force_knn because random_state is given\n"
     ]
    },
    {
     "name": "stderr",
     "output_type": "stream",
     "text": [
      "2025-05-01 00:35:23,827 - BERTopic - WARNING: When you use `pickle` to save/load a BERTopic model,please make sure that the environments in which you saveand load the model are **exactly** the same. The version of BERTopic,its dependencies, and python need to remain the same.\n"
     ]
    },
    {
     "name": "stdout",
     "output_type": "stream",
     "text": [
      "[2025-05-01 00:35:31.196] [CUML] [info] build_algo set to brute_force_knn because random_state is given\n"
     ]
    },
    {
     "name": "stderr",
     "output_type": "stream",
     "text": [
      "2025-05-01 00:35:35,009 - BERTopic - WARNING: When you use `pickle` to save/load a BERTopic model,please make sure that the environments in which you saveand load the model are **exactly** the same. The version of BERTopic,its dependencies, and python need to remain the same.\n"
     ]
    },
    {
     "name": "stdout",
     "output_type": "stream",
     "text": [
      "[2025-05-01 00:35:45.194] [CUML] [info] build_algo set to brute_force_knn because random_state is given\n"
     ]
    },
    {
     "name": "stderr",
     "output_type": "stream",
     "text": [
      "2025-05-01 00:35:50,671 - BERTopic - WARNING: When you use `pickle` to save/load a BERTopic model,please make sure that the environments in which you saveand load the model are **exactly** the same. The version of BERTopic,its dependencies, and python need to remain the same.\n"
     ]
    },
    {
     "name": "stdout",
     "output_type": "stream",
     "text": [
      "[2025-05-01 00:36:10.190] [CUML] [info] build_algo set to brute_force_knn because random_state is given\n"
     ]
    },
    {
     "name": "stderr",
     "output_type": "stream",
     "text": [
      "2025-05-01 00:36:21,545 - BERTopic - WARNING: When you use `pickle` to save/load a BERTopic model,please make sure that the environments in which you saveand load the model are **exactly** the same. The version of BERTopic,its dependencies, and python need to remain the same.\n"
     ]
    },
    {
     "name": "stdout",
     "output_type": "stream",
     "text": [
      "[2025-05-01 00:36:32.125] [CUML] [info] build_algo set to brute_force_knn because random_state is given\n"
     ]
    },
    {
     "name": "stderr",
     "output_type": "stream",
     "text": [
      "2025-05-01 00:36:35,113 - BERTopic - WARNING: When you use `pickle` to save/load a BERTopic model,please make sure that the environments in which you saveand load the model are **exactly** the same. The version of BERTopic,its dependencies, and python need to remain the same.\n"
     ]
    },
    {
     "name": "stdout",
     "output_type": "stream",
     "text": [
      "[2025-05-01 00:36:42.908] [CUML] [info] build_algo set to brute_force_knn because random_state is given\n"
     ]
    },
    {
     "name": "stderr",
     "output_type": "stream",
     "text": [
      "2025-05-01 00:36:46,897 - BERTopic - WARNING: When you use `pickle` to save/load a BERTopic model,please make sure that the environments in which you saveand load the model are **exactly** the same. The version of BERTopic,its dependencies, and python need to remain the same.\n"
     ]
    },
    {
     "name": "stdout",
     "output_type": "stream",
     "text": [
      "[2025-05-01 00:37:04.387] [CUML] [info] build_algo set to brute_force_knn because random_state is given\n"
     ]
    },
    {
     "name": "stderr",
     "output_type": "stream",
     "text": [
      "2025-05-01 00:37:08,620 - BERTopic - WARNING: When you use `pickle` to save/load a BERTopic model,please make sure that the environments in which you saveand load the model are **exactly** the same. The version of BERTopic,its dependencies, and python need to remain the same.\n"
     ]
    },
    {
     "name": "stdout",
     "output_type": "stream",
     "text": [
      "[2025-05-01 00:37:22.288] [CUML] [info] build_algo set to brute_force_knn because random_state is given\n"
     ]
    },
    {
     "name": "stderr",
     "output_type": "stream",
     "text": [
      "2025-05-01 00:37:27,074 - BERTopic - WARNING: When you use `pickle` to save/load a BERTopic model,please make sure that the environments in which you saveand load the model are **exactly** the same. The version of BERTopic,its dependencies, and python need to remain the same.\n"
     ]
    },
    {
     "name": "stdout",
     "output_type": "stream",
     "text": [
      "[2025-05-01 00:37:43.122] [CUML] [info] build_algo set to brute_force_knn because random_state is given\n"
     ]
    },
    {
     "name": "stderr",
     "output_type": "stream",
     "text": [
      "2025-05-01 00:37:59,149 - BERTopic - WARNING: When you use `pickle` to save/load a BERTopic model,please make sure that the environments in which you saveand load the model are **exactly** the same. The version of BERTopic,its dependencies, and python need to remain the same.\n"
     ]
    },
    {
     "name": "stdout",
     "output_type": "stream",
     "text": [
      "[2025-05-01 00:38:11.742] [CUML] [info] build_algo set to brute_force_knn because random_state is given\n"
     ]
    },
    {
     "name": "stderr",
     "output_type": "stream",
     "text": [
      "2025-05-01 00:38:18,544 - BERTopic - WARNING: When you use `pickle` to save/load a BERTopic model,please make sure that the environments in which you saveand load the model are **exactly** the same. The version of BERTopic,its dependencies, and python need to remain the same.\n"
     ]
    },
    {
     "name": "stdout",
     "output_type": "stream",
     "text": [
      "[2025-05-01 00:38:27.936] [CUML] [info] build_algo set to brute_force_knn because random_state is given\n"
     ]
    },
    {
     "name": "stderr",
     "output_type": "stream",
     "text": [
      "2025-05-01 00:38:31,302 - BERTopic - WARNING: When you use `pickle` to save/load a BERTopic model,please make sure that the environments in which you saveand load the model are **exactly** the same. The version of BERTopic,its dependencies, and python need to remain the same.\n"
     ]
    },
    {
     "name": "stdout",
     "output_type": "stream",
     "text": [
      "[2025-05-01 00:38:39.736] [CUML] [info] build_algo set to brute_force_knn because random_state is given\n"
     ]
    },
    {
     "name": "stderr",
     "output_type": "stream",
     "text": [
      "2025-05-01 00:38:44,040 - BERTopic - WARNING: When you use `pickle` to save/load a BERTopic model,please make sure that the environments in which you saveand load the model are **exactly** the same. The version of BERTopic,its dependencies, and python need to remain the same.\n"
     ]
    },
    {
     "name": "stdout",
     "output_type": "stream",
     "text": [
      "[2025-05-01 00:38:59.792] [CUML] [info] build_algo set to brute_force_knn because random_state is given\n"
     ]
    },
    {
     "name": "stderr",
     "output_type": "stream",
     "text": [
      "2025-05-01 00:39:07,445 - BERTopic - WARNING: When you use `pickle` to save/load a BERTopic model,please make sure that the environments in which you saveand load the model are **exactly** the same. The version of BERTopic,its dependencies, and python need to remain the same.\n"
     ]
    },
    {
     "name": "stdout",
     "output_type": "stream",
     "text": [
      "[2025-05-01 00:39:21.906] [CUML] [info] build_algo set to brute_force_knn because random_state is given\n"
     ]
    },
    {
     "name": "stderr",
     "output_type": "stream",
     "text": [
      "2025-05-01 00:39:37,804 - BERTopic - WARNING: When you use `pickle` to save/load a BERTopic model,please make sure that the environments in which you saveand load the model are **exactly** the same. The version of BERTopic,its dependencies, and python need to remain the same.\n"
     ]
    },
    {
     "name": "stdout",
     "output_type": "stream",
     "text": [
      "[2025-05-01 00:39:46.809] [CUML] [info] build_algo set to brute_force_knn because random_state is given\n"
     ]
    },
    {
     "name": "stderr",
     "output_type": "stream",
     "text": [
      "2025-05-01 00:39:50,362 - BERTopic - WARNING: When you use `pickle` to save/load a BERTopic model,please make sure that the environments in which you saveand load the model are **exactly** the same. The version of BERTopic,its dependencies, and python need to remain the same.\n"
     ]
    },
    {
     "name": "stdout",
     "output_type": "stream",
     "text": [
      "[2025-05-01 00:40:03.246] [CUML] [info] build_algo set to brute_force_knn because random_state is given\n"
     ]
    },
    {
     "name": "stderr",
     "output_type": "stream",
     "text": [
      "2025-05-01 00:40:07,613 - BERTopic - WARNING: When you use `pickle` to save/load a BERTopic model,please make sure that the environments in which you saveand load the model are **exactly** the same. The version of BERTopic,its dependencies, and python need to remain the same.\n"
     ]
    },
    {
     "name": "stdout",
     "output_type": "stream",
     "text": [
      "[2025-05-01 00:40:22.127] [CUML] [info] build_algo set to brute_force_knn because random_state is given\n"
     ]
    },
    {
     "name": "stderr",
     "output_type": "stream",
     "text": [
      "2025-05-01 00:40:33,600 - BERTopic - WARNING: When you use `pickle` to save/load a BERTopic model,please make sure that the environments in which you saveand load the model are **exactly** the same. The version of BERTopic,its dependencies, and python need to remain the same.\n"
     ]
    },
    {
     "name": "stdout",
     "output_type": "stream",
     "text": [
      "[2025-05-01 00:40:51.877] [CUML] [info] build_algo set to brute_force_knn because random_state is given\n"
     ]
    },
    {
     "name": "stderr",
     "output_type": "stream",
     "text": [
      "2025-05-01 00:41:06,903 - BERTopic - WARNING: When you use `pickle` to save/load a BERTopic model,please make sure that the environments in which you saveand load the model are **exactly** the same. The version of BERTopic,its dependencies, and python need to remain the same.\n"
     ]
    },
    {
     "name": "stdout",
     "output_type": "stream",
     "text": [
      "[2025-05-01 00:41:17.683] [CUML] [info] build_algo set to brute_force_knn because random_state is given\n"
     ]
    },
    {
     "name": "stderr",
     "output_type": "stream",
     "text": [
      "2025-05-01 00:41:21,942 - BERTopic - WARNING: When you use `pickle` to save/load a BERTopic model,please make sure that the environments in which you saveand load the model are **exactly** the same. The version of BERTopic,its dependencies, and python need to remain the same.\n"
     ]
    },
    {
     "name": "stdout",
     "output_type": "stream",
     "text": [
      "[2025-05-01 00:41:37.922] [CUML] [info] build_algo set to brute_force_knn because random_state is given\n"
     ]
    },
    {
     "name": "stderr",
     "output_type": "stream",
     "text": [
      "2025-05-01 00:41:48,575 - BERTopic - WARNING: When you use `pickle` to save/load a BERTopic model,please make sure that the environments in which you saveand load the model are **exactly** the same. The version of BERTopic,its dependencies, and python need to remain the same.\n"
     ]
    },
    {
     "name": "stdout",
     "output_type": "stream",
     "text": [
      "[2025-05-01 00:41:58.029] [CUML] [info] build_algo set to brute_force_knn because random_state is given\n"
     ]
    },
    {
     "name": "stderr",
     "output_type": "stream",
     "text": [
      "2025-05-01 00:42:02,422 - BERTopic - WARNING: When you use `pickle` to save/load a BERTopic model,please make sure that the environments in which you saveand load the model are **exactly** the same. The version of BERTopic,its dependencies, and python need to remain the same.\n"
     ]
    },
    {
     "name": "stdout",
     "output_type": "stream",
     "text": [
      "[2025-05-01 00:42:16.723] [CUML] [info] build_algo set to brute_force_knn because random_state is given\n"
     ]
    },
    {
     "name": "stderr",
     "output_type": "stream",
     "text": [
      "2025-05-01 00:42:19,970 - BERTopic - WARNING: When you use `pickle` to save/load a BERTopic model,please make sure that the environments in which you saveand load the model are **exactly** the same. The version of BERTopic,its dependencies, and python need to remain the same.\n"
     ]
    },
    {
     "name": "stdout",
     "output_type": "stream",
     "text": [
      "[2025-05-01 00:42:30.134] [CUML] [info] build_algo set to brute_force_knn because random_state is given\n"
     ]
    },
    {
     "name": "stderr",
     "output_type": "stream",
     "text": [
      "2025-05-01 00:42:33,631 - BERTopic - WARNING: When you use `pickle` to save/load a BERTopic model,please make sure that the environments in which you saveand load the model are **exactly** the same. The version of BERTopic,its dependencies, and python need to remain the same.\n"
     ]
    },
    {
     "name": "stdout",
     "output_type": "stream",
     "text": [
      "[2025-05-01 00:42:42.620] [CUML] [info] build_algo set to brute_force_knn because random_state is given\n"
     ]
    },
    {
     "name": "stderr",
     "output_type": "stream",
     "text": [
      "2025-05-01 00:42:47,819 - BERTopic - WARNING: When you use `pickle` to save/load a BERTopic model,please make sure that the environments in which you saveand load the model are **exactly** the same. The version of BERTopic,its dependencies, and python need to remain the same.\n"
     ]
    },
    {
     "name": "stdout",
     "output_type": "stream",
     "text": [
      "[2025-05-01 00:42:55.894] [CUML] [info] build_algo set to brute_force_knn because random_state is given\n"
     ]
    },
    {
     "name": "stderr",
     "output_type": "stream",
     "text": [
      "2025-05-01 00:43:00,630 - BERTopic - WARNING: When you use `pickle` to save/load a BERTopic model,please make sure that the environments in which you saveand load the model are **exactly** the same. The version of BERTopic,its dependencies, and python need to remain the same.\n"
     ]
    },
    {
     "name": "stdout",
     "output_type": "stream",
     "text": [
      "[2025-05-01 00:43:13.775] [CUML] [info] build_algo set to brute_force_knn because random_state is given\n"
     ]
    },
    {
     "name": "stderr",
     "output_type": "stream",
     "text": [
      "2025-05-01 00:43:19,800 - BERTopic - WARNING: When you use `pickle` to save/load a BERTopic model,please make sure that the environments in which you saveand load the model are **exactly** the same. The version of BERTopic,its dependencies, and python need to remain the same.\n"
     ]
    },
    {
     "name": "stdout",
     "output_type": "stream",
     "text": [
      "[2025-05-01 00:43:27.381] [CUML] [info] build_algo set to brute_force_knn because random_state is given\n"
     ]
    },
    {
     "name": "stderr",
     "output_type": "stream",
     "text": [
      "2025-05-01 00:43:30,688 - BERTopic - WARNING: When you use `pickle` to save/load a BERTopic model,please make sure that the environments in which you saveand load the model are **exactly** the same. The version of BERTopic,its dependencies, and python need to remain the same.\n"
     ]
    },
    {
     "name": "stdout",
     "output_type": "stream",
     "text": [
      "[2025-05-01 00:43:42.437] [CUML] [info] build_algo set to brute_force_knn because random_state is given\n"
     ]
    },
    {
     "name": "stderr",
     "output_type": "stream",
     "text": [
      "2025-05-01 00:43:48,823 - BERTopic - WARNING: When you use `pickle` to save/load a BERTopic model,please make sure that the environments in which you saveand load the model are **exactly** the same. The version of BERTopic,its dependencies, and python need to remain the same.\n"
     ]
    },
    {
     "name": "stdout",
     "output_type": "stream",
     "text": [
      "[2025-05-01 00:44:03.042] [CUML] [info] build_algo set to brute_force_knn because random_state is given\n"
     ]
    },
    {
     "name": "stderr",
     "output_type": "stream",
     "text": [
      "2025-05-01 00:44:06,445 - BERTopic - WARNING: When you use `pickle` to save/load a BERTopic model,please make sure that the environments in which you saveand load the model are **exactly** the same. The version of BERTopic,its dependencies, and python need to remain the same.\n"
     ]
    },
    {
     "name": "stdout",
     "output_type": "stream",
     "text": [
      "[2025-05-01 00:44:18.314] [CUML] [info] build_algo set to brute_force_knn because random_state is given\n"
     ]
    },
    {
     "name": "stderr",
     "output_type": "stream",
     "text": [
      "2025-05-01 00:44:22,059 - BERTopic - WARNING: When you use `pickle` to save/load a BERTopic model,please make sure that the environments in which you saveand load the model are **exactly** the same. The version of BERTopic,its dependencies, and python need to remain the same.\n"
     ]
    },
    {
     "name": "stdout",
     "output_type": "stream",
     "text": [
      "[2025-05-01 00:44:36.065] [CUML] [info] build_algo set to brute_force_knn because random_state is given\n"
     ]
    },
    {
     "name": "stderr",
     "output_type": "stream",
     "text": [
      "2025-05-01 00:44:43,469 - BERTopic - WARNING: When you use `pickle` to save/load a BERTopic model,please make sure that the environments in which you saveand load the model are **exactly** the same. The version of BERTopic,its dependencies, and python need to remain the same.\n"
     ]
    },
    {
     "name": "stdout",
     "output_type": "stream",
     "text": [
      "[2025-05-01 00:44:55.675] [CUML] [info] build_algo set to brute_force_knn because random_state is given\n"
     ]
    },
    {
     "name": "stderr",
     "output_type": "stream",
     "text": [
      "2025-05-01 00:45:01,066 - BERTopic - WARNING: When you use `pickle` to save/load a BERTopic model,please make sure that the environments in which you saveand load the model are **exactly** the same. The version of BERTopic,its dependencies, and python need to remain the same.\n"
     ]
    },
    {
     "name": "stdout",
     "output_type": "stream",
     "text": [
      "[2025-05-01 00:45:07.060] [CUML] [info] build_algo set to brute_force_knn because random_state is given\n"
     ]
    },
    {
     "name": "stderr",
     "output_type": "stream",
     "text": [
      "2025-05-01 00:45:10,134 - BERTopic - WARNING: When you use `pickle` to save/load a BERTopic model,please make sure that the environments in which you saveand load the model are **exactly** the same. The version of BERTopic,its dependencies, and python need to remain the same.\n"
     ]
    },
    {
     "name": "stdout",
     "output_type": "stream",
     "text": [
      "[2025-05-01 00:45:21.732] [CUML] [info] build_algo set to brute_force_knn because random_state is given\n"
     ]
    },
    {
     "name": "stderr",
     "output_type": "stream",
     "text": [
      "2025-05-01 00:45:27,028 - BERTopic - WARNING: When you use `pickle` to save/load a BERTopic model,please make sure that the environments in which you saveand load the model are **exactly** the same. The version of BERTopic,its dependencies, and python need to remain the same.\n"
     ]
    },
    {
     "name": "stdout",
     "output_type": "stream",
     "text": [
      "[2025-05-01 00:45:37.109] [CUML] [info] build_algo set to brute_force_knn because random_state is given\n"
     ]
    },
    {
     "name": "stderr",
     "output_type": "stream",
     "text": [
      "2025-05-01 00:45:40,323 - BERTopic - WARNING: When you use `pickle` to save/load a BERTopic model,please make sure that the environments in which you saveand load the model are **exactly** the same. The version of BERTopic,its dependencies, and python need to remain the same.\n"
     ]
    },
    {
     "name": "stdout",
     "output_type": "stream",
     "text": [
      "[2025-05-01 00:45:52.632] [CUML] [info] build_algo set to brute_force_knn because random_state is given\n"
     ]
    },
    {
     "name": "stderr",
     "output_type": "stream",
     "text": [
      "2025-05-01 00:46:02,732 - BERTopic - WARNING: When you use `pickle` to save/load a BERTopic model,please make sure that the environments in which you saveand load the model are **exactly** the same. The version of BERTopic,its dependencies, and python need to remain the same.\n"
     ]
    },
    {
     "name": "stdout",
     "output_type": "stream",
     "text": [
      "[2025-05-01 00:46:13.869] [CUML] [info] build_algo set to brute_force_knn because random_state is given\n"
     ]
    },
    {
     "name": "stderr",
     "output_type": "stream",
     "text": [
      "2025-05-01 00:46:18,954 - BERTopic - WARNING: When you use `pickle` to save/load a BERTopic model,please make sure that the environments in which you saveand load the model are **exactly** the same. The version of BERTopic,its dependencies, and python need to remain the same.\n"
     ]
    },
    {
     "name": "stdout",
     "output_type": "stream",
     "text": [
      "[2025-05-01 00:46:30.672] [CUML] [info] build_algo set to brute_force_knn because random_state is given\n"
     ]
    },
    {
     "name": "stderr",
     "output_type": "stream",
     "text": [
      "2025-05-01 00:46:41,835 - BERTopic - WARNING: When you use `pickle` to save/load a BERTopic model,please make sure that the environments in which you saveand load the model are **exactly** the same. The version of BERTopic,its dependencies, and python need to remain the same.\n"
     ]
    },
    {
     "name": "stdout",
     "output_type": "stream",
     "text": [
      "[2025-05-01 00:46:55.855] [CUML] [info] build_algo set to brute_force_knn because random_state is given\n"
     ]
    },
    {
     "name": "stderr",
     "output_type": "stream",
     "text": [
      "2025-05-01 00:47:08,033 - BERTopic - WARNING: When you use `pickle` to save/load a BERTopic model,please make sure that the environments in which you saveand load the model are **exactly** the same. The version of BERTopic,its dependencies, and python need to remain the same.\n"
     ]
    },
    {
     "name": "stdout",
     "output_type": "stream",
     "text": [
      "[2025-05-01 00:47:15.393] [CUML] [info] build_algo set to brute_force_knn because random_state is given\n"
     ]
    },
    {
     "name": "stderr",
     "output_type": "stream",
     "text": [
      "2025-05-01 00:47:17,897 - BERTopic - WARNING: When you use `pickle` to save/load a BERTopic model,please make sure that the environments in which you saveand load the model are **exactly** the same. The version of BERTopic,its dependencies, and python need to remain the same.\n"
     ]
    },
    {
     "name": "stdout",
     "output_type": "stream",
     "text": [
      "[2025-05-01 00:47:22.340] [CUML] [info] build_algo set to brute_force_knn because random_state is given\n"
     ]
    },
    {
     "name": "stderr",
     "output_type": "stream",
     "text": [
      "2025-05-01 00:47:23,578 - BERTopic - WARNING: When you use `pickle` to save/load a BERTopic model,please make sure that the environments in which you saveand load the model are **exactly** the same. The version of BERTopic,its dependencies, and python need to remain the same.\n"
     ]
    },
    {
     "name": "stdout",
     "output_type": "stream",
     "text": [
      "[2025-05-01 00:47:29.764] [CUML] [info] build_algo set to brute_force_knn because random_state is given\n"
     ]
    },
    {
     "name": "stderr",
     "output_type": "stream",
     "text": [
      "2025-05-01 00:47:31,939 - BERTopic - WARNING: When you use `pickle` to save/load a BERTopic model,please make sure that the environments in which you saveand load the model are **exactly** the same. The version of BERTopic,its dependencies, and python need to remain the same.\n"
     ]
    },
    {
     "name": "stdout",
     "output_type": "stream",
     "text": [
      "[2025-05-01 00:47:39.988] [CUML] [info] build_algo set to brute_force_knn because random_state is given\n"
     ]
    },
    {
     "name": "stderr",
     "output_type": "stream",
     "text": [
      "2025-05-01 00:47:42,728 - BERTopic - WARNING: When you use `pickle` to save/load a BERTopic model,please make sure that the environments in which you saveand load the model are **exactly** the same. The version of BERTopic,its dependencies, and python need to remain the same.\n"
     ]
    },
    {
     "name": "stdout",
     "output_type": "stream",
     "text": [
      "[2025-05-01 00:47:50.140] [CUML] [info] build_algo set to brute_force_knn because random_state is given\n"
     ]
    },
    {
     "name": "stderr",
     "output_type": "stream",
     "text": [
      "2025-05-01 00:47:51,211 - BERTopic - WARNING: When you use `pickle` to save/load a BERTopic model,please make sure that the environments in which you saveand load the model are **exactly** the same. The version of BERTopic,its dependencies, and python need to remain the same.\n"
     ]
    },
    {
     "name": "stdout",
     "output_type": "stream",
     "text": [
      "[2025-05-01 00:47:56.050] [CUML] [info] build_algo set to brute_force_knn because random_state is given\n"
     ]
    },
    {
     "name": "stderr",
     "output_type": "stream",
     "text": [
      "2025-05-01 00:47:57,773 - BERTopic - WARNING: When you use `pickle` to save/load a BERTopic model,please make sure that the environments in which you saveand load the model are **exactly** the same. The version of BERTopic,its dependencies, and python need to remain the same.\n"
     ]
    },
    {
     "name": "stdout",
     "output_type": "stream",
     "text": [
      "[2025-05-01 00:48:03.330] [CUML] [info] build_algo set to brute_force_knn because random_state is given\n"
     ]
    },
    {
     "name": "stderr",
     "output_type": "stream",
     "text": [
      "2025-05-01 00:48:05,364 - BERTopic - WARNING: When you use `pickle` to save/load a BERTopic model,please make sure that the environments in which you saveand load the model are **exactly** the same. The version of BERTopic,its dependencies, and python need to remain the same.\n"
     ]
    },
    {
     "name": "stdout",
     "output_type": "stream",
     "text": [
      "[2025-05-01 00:48:12.442] [CUML] [info] build_algo set to brute_force_knn because random_state is given\n"
     ]
    },
    {
     "name": "stderr",
     "output_type": "stream",
     "text": [
      "2025-05-01 00:48:14,863 - BERTopic - WARNING: When you use `pickle` to save/load a BERTopic model,please make sure that the environments in which you saveand load the model are **exactly** the same. The version of BERTopic,its dependencies, and python need to remain the same.\n"
     ]
    },
    {
     "name": "stdout",
     "output_type": "stream",
     "text": [
      "[2025-05-01 00:48:19.467] [CUML] [info] build_algo set to brute_force_knn because random_state is given\n"
     ]
    },
    {
     "name": "stderr",
     "output_type": "stream",
     "text": [
      "2025-05-01 00:48:21,172 - BERTopic - WARNING: When you use `pickle` to save/load a BERTopic model,please make sure that the environments in which you saveand load the model are **exactly** the same. The version of BERTopic,its dependencies, and python need to remain the same.\n"
     ]
    },
    {
     "name": "stdout",
     "output_type": "stream",
     "text": [
      "[2025-05-01 00:48:26.659] [CUML] [info] build_algo set to brute_force_knn because random_state is given\n"
     ]
    },
    {
     "name": "stderr",
     "output_type": "stream",
     "text": [
      "2025-05-01 00:48:28,451 - BERTopic - WARNING: When you use `pickle` to save/load a BERTopic model,please make sure that the environments in which you saveand load the model are **exactly** the same. The version of BERTopic,its dependencies, and python need to remain the same.\n"
     ]
    },
    {
     "name": "stdout",
     "output_type": "stream",
     "text": [
      "[2025-05-01 00:48:34.496] [CUML] [info] build_algo set to brute_force_knn because random_state is given\n"
     ]
    },
    {
     "name": "stderr",
     "output_type": "stream",
     "text": [
      "2025-05-01 00:48:36,558 - BERTopic - WARNING: When you use `pickle` to save/load a BERTopic model,please make sure that the environments in which you saveand load the model are **exactly** the same. The version of BERTopic,its dependencies, and python need to remain the same.\n"
     ]
    },
    {
     "name": "stdout",
     "output_type": "stream",
     "text": [
      "[2025-05-01 00:48:38.561] [CUML] [info] build_algo set to brute_force_knn because random_state is given\n"
     ]
    },
    {
     "name": "stderr",
     "output_type": "stream",
     "text": [
      "2025-05-01 00:48:39,333 - BERTopic - WARNING: When you use `pickle` to save/load a BERTopic model,please make sure that the environments in which you saveand load the model are **exactly** the same. The version of BERTopic,its dependencies, and python need to remain the same.\n"
     ]
    },
    {
     "name": "stdout",
     "output_type": "stream",
     "text": [
      "[2025-05-01 00:48:45.243] [CUML] [info] build_algo set to brute_force_knn because random_state is given\n"
     ]
    },
    {
     "name": "stderr",
     "output_type": "stream",
     "text": [
      "2025-05-01 00:48:47,859 - BERTopic - WARNING: When you use `pickle` to save/load a BERTopic model,please make sure that the environments in which you saveand load the model are **exactly** the same. The version of BERTopic,its dependencies, and python need to remain the same.\n"
     ]
    },
    {
     "name": "stdout",
     "output_type": "stream",
     "text": [
      "[2025-05-01 00:49:01.001] [CUML] [info] build_algo set to brute_force_knn because random_state is given\n"
     ]
    },
    {
     "name": "stderr",
     "output_type": "stream",
     "text": [
      "2025-05-01 00:49:03,534 - BERTopic - WARNING: When you use `pickle` to save/load a BERTopic model,please make sure that the environments in which you saveand load the model are **exactly** the same. The version of BERTopic,its dependencies, and python need to remain the same.\n"
     ]
    },
    {
     "name": "stdout",
     "output_type": "stream",
     "text": [
      "[2025-05-01 00:49:12.923] [CUML] [info] build_algo set to brute_force_knn because random_state is given\n"
     ]
    },
    {
     "name": "stderr",
     "output_type": "stream",
     "text": [
      "2025-05-01 00:49:14,849 - BERTopic - WARNING: When you use `pickle` to save/load a BERTopic model,please make sure that the environments in which you saveand load the model are **exactly** the same. The version of BERTopic,its dependencies, and python need to remain the same.\n"
     ]
    },
    {
     "name": "stdout",
     "output_type": "stream",
     "text": [
      "[2025-05-01 00:49:21.398] [CUML] [info] build_algo set to brute_force_knn because random_state is given\n"
     ]
    },
    {
     "name": "stderr",
     "output_type": "stream",
     "text": [
      "2025-05-01 00:49:23,338 - BERTopic - WARNING: When you use `pickle` to save/load a BERTopic model,please make sure that the environments in which you saveand load the model are **exactly** the same. The version of BERTopic,its dependencies, and python need to remain the same.\n"
     ]
    },
    {
     "name": "stdout",
     "output_type": "stream",
     "text": [
      "[2025-05-01 00:49:32.143] [CUML] [info] build_algo set to brute_force_knn because random_state is given\n"
     ]
    },
    {
     "name": "stderr",
     "output_type": "stream",
     "text": [
      "2025-05-01 00:49:34,608 - BERTopic - WARNING: When you use `pickle` to save/load a BERTopic model,please make sure that the environments in which you saveand load the model are **exactly** the same. The version of BERTopic,its dependencies, and python need to remain the same.\n"
     ]
    },
    {
     "name": "stdout",
     "output_type": "stream",
     "text": [
      "[2025-05-01 00:49:38.323] [CUML] [info] build_algo set to brute_force_knn because random_state is given\n"
     ]
    },
    {
     "name": "stderr",
     "output_type": "stream",
     "text": [
      "2025-05-01 00:49:39,889 - BERTopic - WARNING: When you use `pickle` to save/load a BERTopic model,please make sure that the environments in which you saveand load the model are **exactly** the same. The version of BERTopic,its dependencies, and python need to remain the same.\n"
     ]
    },
    {
     "name": "stdout",
     "output_type": "stream",
     "text": [
      "[2025-05-01 00:49:43.431] [CUML] [info] build_algo set to brute_force_knn because random_state is given\n"
     ]
    },
    {
     "name": "stderr",
     "output_type": "stream",
     "text": [
      "2025-05-01 00:49:44,601 - BERTopic - WARNING: When you use `pickle` to save/load a BERTopic model,please make sure that the environments in which you saveand load the model are **exactly** the same. The version of BERTopic,its dependencies, and python need to remain the same.\n"
     ]
    },
    {
     "name": "stdout",
     "output_type": "stream",
     "text": [
      "[2025-05-01 00:49:52.169] [CUML] [info] build_algo set to brute_force_knn because random_state is given\n"
     ]
    },
    {
     "name": "stderr",
     "output_type": "stream",
     "text": [
      "2025-05-01 00:49:54,017 - BERTopic - WARNING: When you use `pickle` to save/load a BERTopic model,please make sure that the environments in which you saveand load the model are **exactly** the same. The version of BERTopic,its dependencies, and python need to remain the same.\n"
     ]
    },
    {
     "name": "stdout",
     "output_type": "stream",
     "text": [
      "[2025-05-01 00:49:59.701] [CUML] [info] build_algo set to brute_force_knn because random_state is given\n"
     ]
    },
    {
     "name": "stderr",
     "output_type": "stream",
     "text": [
      "2025-05-01 00:50:01,029 - BERTopic - WARNING: When you use `pickle` to save/load a BERTopic model,please make sure that the environments in which you saveand load the model are **exactly** the same. The version of BERTopic,its dependencies, and python need to remain the same.\n"
     ]
    },
    {
     "name": "stdout",
     "output_type": "stream",
     "text": [
      "[2025-05-01 00:50:04.382] [CUML] [info] build_algo set to brute_force_knn because random_state is given\n"
     ]
    },
    {
     "name": "stderr",
     "output_type": "stream",
     "text": [
      "2025-05-01 00:50:05,466 - BERTopic - WARNING: When you use `pickle` to save/load a BERTopic model,please make sure that the environments in which you saveand load the model are **exactly** the same. The version of BERTopic,its dependencies, and python need to remain the same.\n"
     ]
    },
    {
     "name": "stdout",
     "output_type": "stream",
     "text": [
      "[2025-05-01 00:50:12.993] [CUML] [info] build_algo set to brute_force_knn because random_state is given\n"
     ]
    },
    {
     "name": "stderr",
     "output_type": "stream",
     "text": [
      "2025-05-01 00:50:15,680 - BERTopic - WARNING: When you use `pickle` to save/load a BERTopic model,please make sure that the environments in which you saveand load the model are **exactly** the same. The version of BERTopic,its dependencies, and python need to remain the same.\n"
     ]
    },
    {
     "name": "stdout",
     "output_type": "stream",
     "text": [
      "[2025-05-01 00:50:22.448] [CUML] [info] build_algo set to brute_force_knn because random_state is given\n"
     ]
    },
    {
     "name": "stderr",
     "output_type": "stream",
     "text": [
      "2025-05-01 00:50:24,328 - BERTopic - WARNING: When you use `pickle` to save/load a BERTopic model,please make sure that the environments in which you saveand load the model are **exactly** the same. The version of BERTopic,its dependencies, and python need to remain the same.\n"
     ]
    },
    {
     "name": "stdout",
     "output_type": "stream",
     "text": [
      "[2025-05-01 00:50:30.238] [CUML] [info] build_algo set to brute_force_knn because random_state is given\n"
     ]
    },
    {
     "name": "stderr",
     "output_type": "stream",
     "text": [
      "2025-05-01 00:50:32,427 - BERTopic - WARNING: When you use `pickle` to save/load a BERTopic model,please make sure that the environments in which you saveand load the model are **exactly** the same. The version of BERTopic,its dependencies, and python need to remain the same.\n"
     ]
    },
    {
     "name": "stdout",
     "output_type": "stream",
     "text": [
      "[2025-05-01 00:50:37.377] [CUML] [info] build_algo set to brute_force_knn because random_state is given\n"
     ]
    },
    {
     "name": "stderr",
     "output_type": "stream",
     "text": [
      "2025-05-01 00:50:39,030 - BERTopic - WARNING: When you use `pickle` to save/load a BERTopic model,please make sure that the environments in which you saveand load the model are **exactly** the same. The version of BERTopic,its dependencies, and python need to remain the same.\n"
     ]
    },
    {
     "name": "stdout",
     "output_type": "stream",
     "text": [
      "[2025-05-01 00:50:46.046] [CUML] [info] build_algo set to brute_force_knn because random_state is given\n"
     ]
    },
    {
     "name": "stderr",
     "output_type": "stream",
     "text": [
      "2025-05-01 00:50:48,623 - BERTopic - WARNING: When you use `pickle` to save/load a BERTopic model,please make sure that the environments in which you saveand load the model are **exactly** the same. The version of BERTopic,its dependencies, and python need to remain the same.\n"
     ]
    },
    {
     "name": "stdout",
     "output_type": "stream",
     "text": [
      "[2025-05-01 00:50:56.675] [CUML] [info] build_algo set to brute_force_knn because random_state is given\n"
     ]
    },
    {
     "name": "stderr",
     "output_type": "stream",
     "text": [
      "2025-05-01 00:50:58,118 - BERTopic - WARNING: When you use `pickle` to save/load a BERTopic model,please make sure that the environments in which you saveand load the model are **exactly** the same. The version of BERTopic,its dependencies, and python need to remain the same.\n"
     ]
    },
    {
     "name": "stdout",
     "output_type": "stream",
     "text": [
      "[2025-05-01 00:51:03.415] [CUML] [info] build_algo set to brute_force_knn because random_state is given\n"
     ]
    },
    {
     "name": "stderr",
     "output_type": "stream",
     "text": [
      "2025-05-01 00:51:05,766 - BERTopic - WARNING: When you use `pickle` to save/load a BERTopic model,please make sure that the environments in which you saveand load the model are **exactly** the same. The version of BERTopic,its dependencies, and python need to remain the same.\n"
     ]
    },
    {
     "name": "stdout",
     "output_type": "stream",
     "text": [
      "[2025-05-01 00:51:09.264] [CUML] [info] build_algo set to brute_force_knn because random_state is given\n"
     ]
    },
    {
     "name": "stderr",
     "output_type": "stream",
     "text": [
      "2025-05-01 00:51:10,527 - BERTopic - WARNING: When you use `pickle` to save/load a BERTopic model,please make sure that the environments in which you saveand load the model are **exactly** the same. The version of BERTopic,its dependencies, and python need to remain the same.\n"
     ]
    },
    {
     "name": "stdout",
     "output_type": "stream",
     "text": [
      "[2025-05-01 00:51:14.192] [CUML] [info] build_algo set to brute_force_knn because random_state is given\n"
     ]
    },
    {
     "name": "stderr",
     "output_type": "stream",
     "text": [
      "2025-05-01 00:51:15,900 - BERTopic - WARNING: When you use `pickle` to save/load a BERTopic model,please make sure that the environments in which you saveand load the model are **exactly** the same. The version of BERTopic,its dependencies, and python need to remain the same.\n"
     ]
    },
    {
     "name": "stdout",
     "output_type": "stream",
     "text": [
      "[2025-05-01 00:51:20.024] [CUML] [info] build_algo set to brute_force_knn because random_state is given\n"
     ]
    },
    {
     "name": "stderr",
     "output_type": "stream",
     "text": [
      "2025-05-01 00:51:21,408 - BERTopic - WARNING: When you use `pickle` to save/load a BERTopic model,please make sure that the environments in which you saveand load the model are **exactly** the same. The version of BERTopic,its dependencies, and python need to remain the same.\n"
     ]
    },
    {
     "name": "stdout",
     "output_type": "stream",
     "text": [
      "[2025-05-01 00:51:29.535] [CUML] [info] build_algo set to brute_force_knn because random_state is given\n"
     ]
    },
    {
     "name": "stderr",
     "output_type": "stream",
     "text": [
      "2025-05-01 00:51:31,990 - BERTopic - WARNING: When you use `pickle` to save/load a BERTopic model,please make sure that the environments in which you saveand load the model are **exactly** the same. The version of BERTopic,its dependencies, and python need to remain the same.\n"
     ]
    },
    {
     "name": "stdout",
     "output_type": "stream",
     "text": [
      "[2025-05-01 00:51:37.516] [CUML] [info] build_algo set to brute_force_knn because random_state is given\n"
     ]
    },
    {
     "name": "stderr",
     "output_type": "stream",
     "text": [
      "2025-05-01 00:51:39,286 - BERTopic - WARNING: When you use `pickle` to save/load a BERTopic model,please make sure that the environments in which you saveand load the model are **exactly** the same. The version of BERTopic,its dependencies, and python need to remain the same.\n"
     ]
    },
    {
     "name": "stdout",
     "output_type": "stream",
     "text": [
      "[2025-05-01 00:51:44.867] [CUML] [info] build_algo set to brute_force_knn because random_state is given\n"
     ]
    },
    {
     "name": "stderr",
     "output_type": "stream",
     "text": [
      "2025-05-01 00:51:47,106 - BERTopic - WARNING: When you use `pickle` to save/load a BERTopic model,please make sure that the environments in which you saveand load the model are **exactly** the same. The version of BERTopic,its dependencies, and python need to remain the same.\n"
     ]
    },
    {
     "name": "stdout",
     "output_type": "stream",
     "text": [
      "[2025-05-01 00:51:51.956] [CUML] [info] build_algo set to brute_force_knn because random_state is given\n"
     ]
    },
    {
     "name": "stderr",
     "output_type": "stream",
     "text": [
      "2025-05-01 00:51:53,969 - BERTopic - WARNING: When you use `pickle` to save/load a BERTopic model,please make sure that the environments in which you saveand load the model are **exactly** the same. The version of BERTopic,its dependencies, and python need to remain the same.\n"
     ]
    },
    {
     "name": "stdout",
     "output_type": "stream",
     "text": [
      "[2025-05-01 00:51:59.772] [CUML] [info] build_algo set to brute_force_knn because random_state is given\n"
     ]
    },
    {
     "name": "stderr",
     "output_type": "stream",
     "text": [
      "2025-05-01 00:52:01,666 - BERTopic - WARNING: When you use `pickle` to save/load a BERTopic model,please make sure that the environments in which you saveand load the model are **exactly** the same. The version of BERTopic,its dependencies, and python need to remain the same.\n"
     ]
    },
    {
     "name": "stdout",
     "output_type": "stream",
     "text": [
      "[2025-05-01 00:52:12.032] [CUML] [info] build_algo set to brute_force_knn because random_state is given\n"
     ]
    },
    {
     "name": "stderr",
     "output_type": "stream",
     "text": [
      "2025-05-01 00:52:13,788 - BERTopic - WARNING: When you use `pickle` to save/load a BERTopic model,please make sure that the environments in which you saveand load the model are **exactly** the same. The version of BERTopic,its dependencies, and python need to remain the same.\n"
     ]
    },
    {
     "name": "stdout",
     "output_type": "stream",
     "text": [
      "[2025-05-01 00:52:22.368] [CUML] [info] build_algo set to brute_force_knn because random_state is given\n"
     ]
    },
    {
     "name": "stderr",
     "output_type": "stream",
     "text": [
      "2025-05-01 00:52:24,070 - BERTopic - WARNING: When you use `pickle` to save/load a BERTopic model,please make sure that the environments in which you saveand load the model are **exactly** the same. The version of BERTopic,its dependencies, and python need to remain the same.\n"
     ]
    },
    {
     "name": "stdout",
     "output_type": "stream",
     "text": [
      "[2025-05-01 00:52:31.579] [CUML] [info] build_algo set to brute_force_knn because random_state is given\n"
     ]
    },
    {
     "name": "stderr",
     "output_type": "stream",
     "text": [
      "2025-05-01 00:52:33,915 - BERTopic - WARNING: When you use `pickle` to save/load a BERTopic model,please make sure that the environments in which you saveand load the model are **exactly** the same. The version of BERTopic,its dependencies, and python need to remain the same.\n"
     ]
    },
    {
     "name": "stdout",
     "output_type": "stream",
     "text": [
      "[2025-05-01 00:52:38.633] [CUML] [info] build_algo set to brute_force_knn because random_state is given\n"
     ]
    },
    {
     "name": "stderr",
     "output_type": "stream",
     "text": [
      "2025-05-01 00:52:40,313 - BERTopic - WARNING: When you use `pickle` to save/load a BERTopic model,please make sure that the environments in which you saveand load the model are **exactly** the same. The version of BERTopic,its dependencies, and python need to remain the same.\n"
     ]
    },
    {
     "name": "stdout",
     "output_type": "stream",
     "text": [
      "[2025-05-01 00:52:45.206] [CUML] [info] build_algo set to brute_force_knn because random_state is given\n"
     ]
    },
    {
     "name": "stderr",
     "output_type": "stream",
     "text": [
      "2025-05-01 00:52:46,744 - BERTopic - WARNING: When you use `pickle` to save/load a BERTopic model,please make sure that the environments in which you saveand load the model are **exactly** the same. The version of BERTopic,its dependencies, and python need to remain the same.\n"
     ]
    },
    {
     "name": "stdout",
     "output_type": "stream",
     "text": [
      "[2025-05-01 00:52:51.330] [CUML] [info] build_algo set to brute_force_knn because random_state is given\n"
     ]
    },
    {
     "name": "stderr",
     "output_type": "stream",
     "text": [
      "2025-05-01 00:52:52,872 - BERTopic - WARNING: When you use `pickle` to save/load a BERTopic model,please make sure that the environments in which you saveand load the model are **exactly** the same. The version of BERTopic,its dependencies, and python need to remain the same.\n"
     ]
    },
    {
     "name": "stdout",
     "output_type": "stream",
     "text": [
      "[2025-05-01 00:52:57.259] [CUML] [info] build_algo set to brute_force_knn because random_state is given\n"
     ]
    },
    {
     "name": "stderr",
     "output_type": "stream",
     "text": [
      "2025-05-01 00:52:58,780 - BERTopic - WARNING: When you use `pickle` to save/load a BERTopic model,please make sure that the environments in which you saveand load the model are **exactly** the same. The version of BERTopic,its dependencies, and python need to remain the same.\n"
     ]
    },
    {
     "name": "stdout",
     "output_type": "stream",
     "text": [
      "[2025-05-01 00:53:07.192] [CUML] [info] build_algo set to brute_force_knn because random_state is given\n"
     ]
    },
    {
     "name": "stderr",
     "output_type": "stream",
     "text": [
      "2025-05-01 00:53:09,281 - BERTopic - WARNING: When you use `pickle` to save/load a BERTopic model,please make sure that the environments in which you saveand load the model are **exactly** the same. The version of BERTopic,its dependencies, and python need to remain the same.\n"
     ]
    },
    {
     "name": "stdout",
     "output_type": "stream",
     "text": [
      "[2025-05-01 00:53:14.719] [CUML] [info] build_algo set to brute_force_knn because random_state is given\n"
     ]
    },
    {
     "name": "stderr",
     "output_type": "stream",
     "text": [
      "2025-05-01 00:53:17,064 - BERTopic - WARNING: When you use `pickle` to save/load a BERTopic model,please make sure that the environments in which you saveand load the model are **exactly** the same. The version of BERTopic,its dependencies, and python need to remain the same.\n"
     ]
    },
    {
     "name": "stdout",
     "output_type": "stream",
     "text": [
      "[2025-05-01 00:53:26.855] [CUML] [info] build_algo set to brute_force_knn because random_state is given\n"
     ]
    },
    {
     "name": "stderr",
     "output_type": "stream",
     "text": [
      "2025-05-01 00:53:29,671 - BERTopic - WARNING: When you use `pickle` to save/load a BERTopic model,please make sure that the environments in which you saveand load the model are **exactly** the same. The version of BERTopic,its dependencies, and python need to remain the same.\n"
     ]
    },
    {
     "name": "stdout",
     "output_type": "stream",
     "text": [
      "[2025-05-01 00:53:37.333] [CUML] [info] build_algo set to brute_force_knn because random_state is given\n"
     ]
    },
    {
     "name": "stderr",
     "output_type": "stream",
     "text": [
      "2025-05-01 00:53:40,162 - BERTopic - WARNING: When you use `pickle` to save/load a BERTopic model,please make sure that the environments in which you saveand load the model are **exactly** the same. The version of BERTopic,its dependencies, and python need to remain the same.\n"
     ]
    },
    {
     "name": "stdout",
     "output_type": "stream",
     "text": [
      "[2025-05-01 00:53:44.624] [CUML] [info] build_algo set to brute_force_knn because random_state is given\n"
     ]
    },
    {
     "name": "stderr",
     "output_type": "stream",
     "text": [
      "2025-05-01 00:53:45,416 - BERTopic - WARNING: When you use `pickle` to save/load a BERTopic model,please make sure that the environments in which you saveand load the model are **exactly** the same. The version of BERTopic,its dependencies, and python need to remain the same.\n"
     ]
    },
    {
     "name": "stdout",
     "output_type": "stream",
     "text": [
      "[2025-05-01 00:53:52.407] [CUML] [info] build_algo set to brute_force_knn because random_state is given\n"
     ]
    },
    {
     "name": "stderr",
     "output_type": "stream",
     "text": [
      "2025-05-01 00:53:54,733 - BERTopic - WARNING: When you use `pickle` to save/load a BERTopic model,please make sure that the environments in which you saveand load the model are **exactly** the same. The version of BERTopic,its dependencies, and python need to remain the same.\n"
     ]
    },
    {
     "name": "stdout",
     "output_type": "stream",
     "text": [
      "[2025-05-01 00:53:57.718] [CUML] [info] build_algo set to brute_force_knn because random_state is given\n"
     ]
    },
    {
     "name": "stderr",
     "output_type": "stream",
     "text": [
      "2025-05-01 00:53:58,854 - BERTopic - WARNING: When you use `pickle` to save/load a BERTopic model,please make sure that the environments in which you saveand load the model are **exactly** the same. The version of BERTopic,its dependencies, and python need to remain the same.\n"
     ]
    },
    {
     "name": "stdout",
     "output_type": "stream",
     "text": [
      "[2025-05-01 00:54:02.640] [CUML] [info] build_algo set to brute_force_knn because random_state is given\n"
     ]
    },
    {
     "name": "stderr",
     "output_type": "stream",
     "text": [
      "2025-05-01 00:54:03,981 - BERTopic - WARNING: When you use `pickle` to save/load a BERTopic model,please make sure that the environments in which you saveand load the model are **exactly** the same. The version of BERTopic,its dependencies, and python need to remain the same.\n"
     ]
    },
    {
     "name": "stdout",
     "output_type": "stream",
     "text": [
      "[2025-05-01 00:54:09.512] [CUML] [info] build_algo set to brute_force_knn because random_state is given\n"
     ]
    },
    {
     "name": "stderr",
     "output_type": "stream",
     "text": [
      "2025-05-01 00:54:11,739 - BERTopic - WARNING: When you use `pickle` to save/load a BERTopic model,please make sure that the environments in which you saveand load the model are **exactly** the same. The version of BERTopic,its dependencies, and python need to remain the same.\n"
     ]
    },
    {
     "name": "stdout",
     "output_type": "stream",
     "text": [
      "[2025-05-01 00:54:15.766] [CUML] [info] build_algo set to brute_force_knn because random_state is given\n"
     ]
    },
    {
     "name": "stderr",
     "output_type": "stream",
     "text": [
      "2025-05-01 00:54:17,373 - BERTopic - WARNING: When you use `pickle` to save/load a BERTopic model,please make sure that the environments in which you saveand load the model are **exactly** the same. The version of BERTopic,its dependencies, and python need to remain the same.\n"
     ]
    },
    {
     "name": "stdout",
     "output_type": "stream",
     "text": [
      "[2025-05-01 00:54:24.369] [CUML] [info] build_algo set to brute_force_knn because random_state is given\n"
     ]
    },
    {
     "name": "stderr",
     "output_type": "stream",
     "text": [
      "2025-05-01 00:54:25,836 - BERTopic - WARNING: When you use `pickle` to save/load a BERTopic model,please make sure that the environments in which you saveand load the model are **exactly** the same. The version of BERTopic,its dependencies, and python need to remain the same.\n"
     ]
    },
    {
     "name": "stdout",
     "output_type": "stream",
     "text": [
      "[2025-05-01 00:54:31.175] [CUML] [info] build_algo set to brute_force_knn because random_state is given\n"
     ]
    },
    {
     "name": "stderr",
     "output_type": "stream",
     "text": [
      "2025-05-01 00:54:32,945 - BERTopic - WARNING: When you use `pickle` to save/load a BERTopic model,please make sure that the environments in which you saveand load the model are **exactly** the same. The version of BERTopic,its dependencies, and python need to remain the same.\n"
     ]
    },
    {
     "name": "stdout",
     "output_type": "stream",
     "text": [
      "[2025-05-01 00:54:37.887] [CUML] [info] build_algo set to brute_force_knn because random_state is given\n"
     ]
    },
    {
     "name": "stderr",
     "output_type": "stream",
     "text": [
      "2025-05-01 00:54:40,301 - BERTopic - WARNING: When you use `pickle` to save/load a BERTopic model,please make sure that the environments in which you saveand load the model are **exactly** the same. The version of BERTopic,its dependencies, and python need to remain the same.\n"
     ]
    },
    {
     "name": "stdout",
     "output_type": "stream",
     "text": [
      "[2025-05-01 00:54:46.871] [CUML] [info] build_algo set to brute_force_knn because random_state is given\n"
     ]
    },
    {
     "name": "stderr",
     "output_type": "stream",
     "text": [
      "2025-05-01 00:54:48,388 - BERTopic - WARNING: When you use `pickle` to save/load a BERTopic model,please make sure that the environments in which you saveand load the model are **exactly** the same. The version of BERTopic,its dependencies, and python need to remain the same.\n"
     ]
    }
   ],
   "source": [
    " ## 4. Sequential Processing for Large & Medium Games\n",
    "\n",
    "# %%\n",
    "results = []\n",
    "# Large games\n",
    "for gid in LARGE_EN:\n",
    "    results.append(process_game_gpu(gid, bucket=\"large\"))\n",
    "# Medium games\n",
    "for gid in MEDIUM_EN:\n",
    "    results.append(process_game_gpu(gid, bucket=\"medium\"))"
   ]
  },
  {
   "cell_type": "code",
   "execution_count": 5,
   "id": "f2e6e326",
   "metadata": {},
   "outputs": [
    {
     "data": {
      "text/html": [
       "<div>\n",
       "<style scoped>\n",
       "    .dataframe tbody tr th:only-of-type {\n",
       "        vertical-align: middle;\n",
       "    }\n",
       "\n",
       "    .dataframe tbody tr th {\n",
       "        vertical-align: top;\n",
       "    }\n",
       "\n",
       "    .dataframe thead th {\n",
       "        text-align: right;\n",
       "    }\n",
       "</style>\n",
       "<table border=\"1\" class=\"dataframe\">\n",
       "  <thead>\n",
       "    <tr style=\"text-align: right;\">\n",
       "      <th></th>\n",
       "      <th>steam_appid</th>\n",
       "      <th>bucket</th>\n",
       "      <th>n_topics</th>\n",
       "    </tr>\n",
       "  </thead>\n",
       "  <tbody>\n",
       "    <tr>\n",
       "      <th>0</th>\n",
       "      <td>284160</td>\n",
       "      <td>Large-EN</td>\n",
       "      <td>158</td>\n",
       "    </tr>\n",
       "    <tr>\n",
       "      <th>1</th>\n",
       "      <td>322170</td>\n",
       "      <td>Large-EN</td>\n",
       "      <td>120</td>\n",
       "    </tr>\n",
       "    <tr>\n",
       "      <th>2</th>\n",
       "      <td>291550</td>\n",
       "      <td>Large-EN</td>\n",
       "      <td>75</td>\n",
       "    </tr>\n",
       "    <tr>\n",
       "      <th>3</th>\n",
       "      <td>107410</td>\n",
       "      <td>Large-EN</td>\n",
       "      <td>72</td>\n",
       "    </tr>\n",
       "    <tr>\n",
       "      <th>4</th>\n",
       "      <td>311210</td>\n",
       "      <td>Large-EN</td>\n",
       "      <td>54</td>\n",
       "    </tr>\n",
       "    <tr>\n",
       "      <th>5</th>\n",
       "      <td>444090</td>\n",
       "      <td>Large-EN</td>\n",
       "      <td>53</td>\n",
       "    </tr>\n",
       "    <tr>\n",
       "      <th>6</th>\n",
       "      <td>322330</td>\n",
       "      <td>Large-EN</td>\n",
       "      <td>47</td>\n",
       "    </tr>\n",
       "    <tr>\n",
       "      <th>7</th>\n",
       "      <td>294100</td>\n",
       "      <td>Large-EN</td>\n",
       "      <td>41</td>\n",
       "    </tr>\n",
       "    <tr>\n",
       "      <th>8</th>\n",
       "      <td>238960</td>\n",
       "      <td>Large-EN</td>\n",
       "      <td>37</td>\n",
       "    </tr>\n",
       "    <tr>\n",
       "      <th>9</th>\n",
       "      <td>393380</td>\n",
       "      <td>Large-EN</td>\n",
       "      <td>34</td>\n",
       "    </tr>\n",
       "    <tr>\n",
       "      <th>10</th>\n",
       "      <td>261550</td>\n",
       "      <td>Large-EN</td>\n",
       "      <td>34</td>\n",
       "    </tr>\n",
       "    <tr>\n",
       "      <th>11</th>\n",
       "      <td>244210</td>\n",
       "      <td>Large-EN</td>\n",
       "      <td>31</td>\n",
       "    </tr>\n",
       "    <tr>\n",
       "      <th>12</th>\n",
       "      <td>70</td>\n",
       "      <td>Large-EN</td>\n",
       "      <td>31</td>\n",
       "    </tr>\n",
       "    <tr>\n",
       "      <th>13</th>\n",
       "      <td>435150</td>\n",
       "      <td>Large-EN</td>\n",
       "      <td>27</td>\n",
       "    </tr>\n",
       "    <tr>\n",
       "      <th>14</th>\n",
       "      <td>244850</td>\n",
       "      <td>Large-EN</td>\n",
       "      <td>27</td>\n",
       "    </tr>\n",
       "    <tr>\n",
       "      <th>15</th>\n",
       "      <td>433340</td>\n",
       "      <td>Large-EN</td>\n",
       "      <td>26</td>\n",
       "    </tr>\n",
       "    <tr>\n",
       "      <th>16</th>\n",
       "      <td>48700</td>\n",
       "      <td>Large-EN</td>\n",
       "      <td>25</td>\n",
       "    </tr>\n",
       "    <tr>\n",
       "      <th>17</th>\n",
       "      <td>220200</td>\n",
       "      <td>Large-EN</td>\n",
       "      <td>23</td>\n",
       "    </tr>\n",
       "    <tr>\n",
       "      <th>18</th>\n",
       "      <td>304390</td>\n",
       "      <td>Large-EN</td>\n",
       "      <td>23</td>\n",
       "    </tr>\n",
       "    <tr>\n",
       "      <th>19</th>\n",
       "      <td>268910</td>\n",
       "      <td>Large-EN</td>\n",
       "      <td>22</td>\n",
       "    </tr>\n",
       "  </tbody>\n",
       "</table>\n",
       "</div>"
      ],
      "text/plain": [
       "    steam_appid    bucket  n_topics\n",
       "0        284160  Large-EN       158\n",
       "1        322170  Large-EN       120\n",
       "2        291550  Large-EN        75\n",
       "3        107410  Large-EN        72\n",
       "4        311210  Large-EN        54\n",
       "5        444090  Large-EN        53\n",
       "6        322330  Large-EN        47\n",
       "7        294100  Large-EN        41\n",
       "8        238960  Large-EN        37\n",
       "9        393380  Large-EN        34\n",
       "10       261550  Large-EN        34\n",
       "11       244210  Large-EN        31\n",
       "12           70  Large-EN        31\n",
       "13       435150  Large-EN        27\n",
       "14       244850  Large-EN        27\n",
       "15       433340  Large-EN        26\n",
       "16        48700  Large-EN        25\n",
       "17       220200  Large-EN        23\n",
       "18       304390  Large-EN        23\n",
       "19       268910  Large-EN        22"
      ]
     },
     "execution_count": 5,
     "metadata": {},
     "output_type": "execute_result"
    }
   ],
   "source": [
    "# ## 5. Summarize Topic Counts per Game\n",
    "\n",
    "# %%\n",
    "df_summary = pd.DataFrame([\n",
    "    {\n",
    "      \"steam_appid\": app_id,\n",
    "      \"bucket\": \"Large-EN\" if app_id in LARGE_EN else \"Medium-EN\",\n",
    "      \"n_topics\": n_topics\n",
    "    }\n",
    "    for app_id, n_topics in results\n",
    "]).sort_values([\"bucket\",\"n_topics\"], ascending=[True, False]) \\\n",
    "  .reset_index(drop=True)\n",
    "\n",
    "df_summary.head(20)"
   ]
  },
  {
   "cell_type": "code",
   "execution_count": 6,
   "id": "e134148d",
   "metadata": {},
   "outputs": [
    {
     "name": "stderr",
     "output_type": "stream",
     "text": [
      "Exception ignored in: <function ResourceTracker.__del__ at 0x7ed64dd971a0>\n",
      "Traceback (most recent call last):\n",
      "  File \"/home/rgmatr1x/anaconda3/envs/rapids-25.04/lib/python3.12/multiprocessing/resource_tracker.py\", line 77, in __del__\n",
      "  File \"/home/rgmatr1x/anaconda3/envs/rapids-25.04/lib/python3.12/multiprocessing/resource_tracker.py\", line 86, in _stop\n",
      "  File \"/home/rgmatr1x/anaconda3/envs/rapids-25.04/lib/python3.12/multiprocessing/resource_tracker.py\", line 111, in _stop_locked\n",
      "ChildProcessError: [Errno 10] No child processes\n",
      "Exception ignored in: <function ResourceTracker.__del__ at 0x7c1ce5d1f1a0>\n",
      "Traceback (most recent call last):\n",
      "  File \"/home/rgmatr1x/anaconda3/envs/rapids-25.04/lib/python3.12/multiprocessing/resource_tracker.py\", line 77, in __del__\n",
      "  File \"/home/rgmatr1x/anaconda3/envs/rapids-25.04/lib/python3.12/multiprocessing/resource_tracker.py\", line 86, in _stop\n",
      "  File \"/home/rgmatr1x/anaconda3/envs/rapids-25.04/lib/python3.12/multiprocessing/resource_tracker.py\", line 111, in _stop_locked\n",
      "ChildProcessError: [Errno 10] No child processes\n",
      "Exception ignored in: <function ResourceTracker.__del__ at 0x70ea785bb1a0>\n",
      "Traceback (most recent call last):\n",
      "  File \"/home/rgmatr1x/anaconda3/envs/rapids-25.04/lib/python3.12/multiprocessing/resource_tracker.py\", line 77, in __del__\n",
      "  File \"/home/rgmatr1x/anaconda3/envs/rapids-25.04/lib/python3.12/multiprocessing/resource_tracker.py\", line 86, in _stop\n",
      "  File \"/home/rgmatr1x/anaconda3/envs/rapids-25.04/lib/python3.12/multiprocessing/resource_tracker.py\", line 111, in _stop_locked\n",
      "ChildProcessError: [Errno 10] No child processes\n",
      "Exception ignored in: <function ResourceTracker.__del__ at 0x78e3d5b4b1a0>\n",
      "Traceback (most recent call last):\n",
      "  File \"/home/rgmatr1x/anaconda3/envs/rapids-25.04/lib/python3.12/multiprocessing/resource_tracker.py\", line 77, in __del__\n",
      "  File \"/home/rgmatr1x/anaconda3/envs/rapids-25.04/lib/python3.12/multiprocessing/resource_tracker.py\", line 86, in _stop\n",
      "  File \"/home/rgmatr1x/anaconda3/envs/rapids-25.04/lib/python3.12/multiprocessing/resource_tracker.py\", line 111, in _stop_locked\n",
      "ChildProcessError: [Errno 10] No child processes\n"
     ]
    }
   ],
   "source": [
    "# ## 6. Small Games Fallback Preparation\n",
    "\n",
    "# %%\n",
    "if SMALL_EN:\n",
    "    sid = SMALL_EN[0]\n",
    "    gdf_small = cudf.read_parquet(f\"{RAW_DIR}/{sid}.parquet\")[[\"review_language\",\"review\"]]\n",
    "    df_small = (\n",
    "        gdf_small[gdf_small[\"review_language\"]==\"english\"]\n",
    "        .dropna(subset=[\"review\"])\n",
    "        .sample(frac=1.0, random_state=42)\n",
    "        .to_pandas()\n",
    "    )\n",
    "    sample_small = df_small.review.sample(n=1000, random_state=42).tolist()\n",
    "    pd.DataFrame({\"sample_review\": sample_small}).head()"
   ]
  },
  {
   "cell_type": "code",
   "execution_count": 8,
   "id": "2c7a82c4",
   "metadata": {},
   "outputs": [
    {
     "name": "stdout",
     "output_type": "stream",
     "text": [
      "   Topic  Count                             Name  \\\n",
      "0     -1  15454             -1_game_and_the_this   \n",
      "1      0   1664                   0_de_que_el_si   \n",
      "2      1    594              1_fps_best_of_still   \n",
      "3      2    554  2_shooter_person_shooting_first   \n",
      "4      3    531                 3_without_what__   \n",
      "5      4    504       4_counterstrike_and_the_of   \n",
      "6      5    418            5_1010_910_would_1110   \n",
      "7      6    353             6_ever_best_game_duh   \n",
      "8      7    344                7_cs_go_best_love   \n",
      "9      8    321           8_gold_old_but_spoiler   \n",
      "\n",
      "                                      Representation  \\\n",
      "0   [game, and, the, this, to, it, of, is, you, for]   \n",
      "1     [de, que, el, si, juego, la, un, jogo, es, se]   \n",
      "2  [fps, best, of, still, classic, one, games, mu...   \n",
      "3  [shooter, person, shooting, first, shoot, shoo...   \n",
      "4                    [without, what, , , , , , , , ]   \n",
      "5  [counterstrike, and, the, of, its, that, to, i...   \n",
      "6  [1010, 910, would, 1110, again, my, childhood,...   \n",
      "7  [ever, best, game, duh, boom, end, true, off, , ]   \n",
      "8  [cs, go, best, love, is, version, the, css, al...   \n",
      "9  [gold, old, but, spoiler, golddddddddddddd, ba...   \n",
      "\n",
      "                                 Representative_Docs  \n",
      "0  [Another update of my almost 10 years old revi...  \n",
      "1  [Del juego no puedo decir nada es buensimo es ...  \n",
      "2  [A classic FPS, Classic FPS, Still one of the ...  \n",
      "3  [ALL TIME BEST FIRST PERSON SHOOTER, best firs...  \n",
      "4                                  [, what, Without]  \n",
      "5  [CounterStrike 16 A Timeless Classic That Shap...  \n",
      "6  [a classic fps 1010, 1010 Childhood game, old ...  \n",
      "7   [Best Game Ever, Best game Ever, Best Game ever]  \n",
      "8       [best cs game, Best cs game, Old CS Best CS]  \n",
      "9         [Old but gold, Old but gold, Old But gold]  \n",
      "Topic 0 words: [('de', np.float64(0.053804321623319384)), ('que', np.float64(0.036086542897335316)), ('el', np.float64(0.02820899520538345)), ('si', np.float64(0.025653083259469578)), ('juego', np.float64(0.025537075774155198)), ('la', np.float64(0.024694056945835367)), ('un', np.float64(0.02287892346220602)), ('jogo', np.float64(0.021940563038749583)), ('es', np.float64(0.020323686969632847)), ('se', np.float64(0.0193336896606851))]\n",
      "Topic 1 words: [('fps', np.float64(0.06484118566548508)), ('best', np.float64(0.012717633309400461)), ('of', np.float64(0.012619871390081024)), ('still', np.float64(0.012521546547155885)), ('classic', np.float64(0.012439610319593269)), ('one', np.float64(0.012369238805750062)), ('games', np.float64(0.011000678549388035)), ('multiplayer', np.float64(0.01064426232580871)), ('the', np.float64(0.010560629998721673)), ('all', np.float64(0.01030464228926146))]\n",
      "Topic 2 words: [('shooter', np.float64(0.05145193950020061)), ('person', np.float64(0.029698280464579098)), ('shooting', np.float64(0.024524674467312317)), ('first', np.float64(0.01935217064464901)), ('shoot', np.float64(0.012622345291458243)), ('shooters', np.float64(0.012537731036202732)), ('best', np.float64(0.012007479969240563)), ('online', np.float64(0.01013055420696875)), ('of', np.float64(0.010031943504648783)), ('the', np.float64(0.009498177536985572))]\n",
      "Topic 3 words: [('without', np.float64(1.5518987308094723)), ('what', np.float64(0.868167467614095)), ('', 1e-05), ('', 1e-05), ('', 1e-05), ('', 1e-05), ('', 1e-05), ('', 1e-05), ('', 1e-05), ('', 1e-05)]\n"
     ]
    }
   ],
   "source": [
    "from bertopic import BERTopic\n",
    "import pandas as pd\n",
    "\n",
    "app_id = \"10\"   # replace with your game ID\n",
    "\n",
    "# 1. Load model\n",
    "model = BERTopic.load(f\"models/bertopic_en_M_gpu/{app_id}\")  # or ..._M_gpu\n",
    "\n",
    "# 2. See topic info\n",
    "topic_info = model.get_topic_info()     # DataFrame with topic IDs, sizes\n",
    "print(topic_info.head(10))\n",
    "\n",
    "# 3. Get the top words per topic\n",
    "for topic in topic_info.Topic.head(5):\n",
    "    if topic == -1: continue           # skip outliers\n",
    "    print(\"Topic\", topic, \"words:\", model.get_topic(topic))"
   ]
  },
  {
   "cell_type": "code",
   "execution_count": 3,
   "id": "5eded22f",
   "metadata": {},
   "outputs": [
    {
     "name": "stdout",
     "output_type": "stream",
     "text": [
      "\n",
      "Topic -1:\n",
      " • Another update of my almost 10 years old review With the release of CS2 I feel compelled to share my sentiments about this gaming masterpiece It has LITERALLY given me more joy and the ability to thin\n",
      " • This will be more of a my experience with this game type of review because saying things like great gameplay will not suit something Ive experienced with CounterStrike Here you go I remember back in 2\n",
      " • This will be more of a my experience with this game type of review because saying things like great gameplay will not suit something Ive experienced with CounterStrike Here you go I remember back in 2\n",
      "\n",
      "Topic 0:\n",
      " • Del juego no puedo decir nada es buensimo es un juego para pasarla bien y muy buen nivel de competicin Ahora si lo que buscas es ser Pro y sentirte algo en Chile pierdes el tiempo ac nadie nunca conse\n",
      " • Mira Enorme te puedo tirar un par de consejos te cuento una historia ojal te ayude Trabajo en una rotiseria y siempre viene el gordo termotanque hijo de remil puto del Enorme el otro dia vino apurado \n",
      " • La acest joc am ales sa fac review in limba romana deoarece este jocul nostru CounterStrike un FPS din anii 90 si culmea inca unul dintre cele mai populare jocuri Nu este baiat care sa fii auzit de Co\n",
      "\n",
      "Topic 1:\n",
      " • A classic FPS\n",
      " • Classic FPS\n",
      " • Still one of the best FPS games\n",
      "\n",
      "Topic 2:\n",
      " • ALL TIME BEST FIRST PERSON SHOOTER\n",
      " • best first person shooter game\n",
      " • The best First person shooter\n",
      "\n",
      "Topic 3:\n",
      " • \n",
      " • what\n",
      " • Without\n",
      "\n",
      "Topic 4:\n",
      " • CounterStrike 16 A Timeless Classic That Shaped the FPS Genre Rating Introduction CounterStrike 16 the iconic firstperson shooter developed by Valve Corporation holds a special place in the hearts of \n",
      " • CounterStrike 16 released over two decades ago remains a timeless classic in the world of firstperson shooters This iconic game has left an indelible mark on the gaming industry and its popularity end\n",
      " • The Classic That Defined Tactical FPS Lets talk about the original CounterStrike This is the one that started it all the game that completely changed the world of competitive shooters I dont care if w\n",
      "\n",
      "Topic 5:\n",
      " • a classic fps 1010\n",
      " • 1010 Childhood game\n",
      " • old but good 1010\n",
      "\n",
      "Topic 6:\n",
      " • Best Game Ever\n",
      " • Best game Ever\n",
      " • Best Game ever\n",
      "\n",
      "Topic 7:\n",
      " • best cs game\n",
      " • Best cs game\n",
      " • Old CS Best CS\n",
      "\n",
      "Topic 8:\n",
      " • Old but gold\n",
      " • Old but gold\n",
      " • Old But gold\n",
      "\n",
      "Topic 9:\n",
      " • BEST EVER CS 16\n",
      " • cs 16 is love cs 16 is life\n",
      " • Best Cs 16 D\n",
      "\n",
      "Topic 10:\n",
      " • This game is better than csgo like it 3\n",
      " • best game with csgo\n",
      " • The Best Game but the better CSGO D\n",
      "\n",
      "Topic 11:\n",
      " • good game\n",
      " • good game\n",
      " • good game\n",
      "\n",
      "Topic 12:\n",
      " • Still the best Counter Strike game\n",
      " • It still is the best counter strike\n",
      " • Best of Counter Strike\n",
      "\n",
      "Topic 13:\n",
      " • Its really good game I recommend this game for you\n",
      " • This game is awesome I recommend this game\n",
      " • Very good game i recommend\n",
      "\n",
      "Topic 14:\n",
      " • old game but gold\n",
      " • Old but Gold game\n",
      " • old but gold game\n",
      "\n",
      "Topic 15:\n",
      " • Old game but still good\n",
      " • Old but still good game\n",
      " • u Old game but still good u\n",
      "\n",
      "Topic 16:\n",
      " • its a classic\n",
      " • it is a classic\n",
      " • A classic\n",
      "\n",
      "Topic 17:\n",
      " • old but gold\n",
      " • Old but Gold\n",
      " • old but gold\n",
      "\n",
      "Topic 18:\n",
      " • nostalgic game\n",
      " • Nostalgic Game\n",
      " • nostalgic game\n",
      "\n",
      "Topic 19:\n",
      " • The game is still alive thats the incredible thing about it The game had no official servers the players had to host their server via HLDJ even after having the flaw of not having official servers Cou\n",
      " • This is a very fun game if you can find some friends to play with There are a lot of servers with custom content such as models or even game modes that completely change the game Even though its old t\n",
      " • Servers are still on\n",
      "\n",
      "Topic 20:\n",
      " • The Best Game Of steam\n",
      " • STEAM\n",
      " • Steam\n",
      "\n",
      "Topic 21:\n",
      " • been playing this game for 20 years\n",
      " • after 20 years still yes\n",
      " • still good after 20 years\n",
      "\n",
      "Topic 22:\n",
      " • I love this game 3\n",
      " • lOve It My All Time FavoUrite\n",
      " • my favourite game i love it\n",
      "\n",
      "Topic 23:\n",
      " • the graphics are old\n",
      " • very good graphics\n",
      " • Very good graphics\n",
      "\n",
      "Topic 24:\n",
      " • Valve\n",
      " • Valve\n",
      " • Valve\n",
      "\n",
      "Topic 25:\n",
      " • NOSTALGIA WITH ZOMBIE PLAGUE\n",
      " • more zombie servers\n",
      " • I like Zombie servers\n",
      "\n",
      "Topic 26:\n",
      " • Legend\n",
      " • this game is legend and it will be legend always\n",
      " • Its just a legend This is what legendary players started with\n",
      "\n",
      "Topic 27:\n",
      " • classic game still the best\n",
      " • its a Classic game\n",
      " • This game is a Classic\n",
      "\n",
      "Topic 28:\n",
      " • Its very good NO BOTS\n",
      " • good game but i cant play with bots\n",
      " • I cant play with bots\n"
     ]
    }
   ],
   "source": [
    "# 4. Representative docs for all topics\n",
    "reprs = model.get_representative_docs()   # returns { topic_id: [doc1, doc2, …] }\n",
    "\n",
    "# If you only want the first 5 topics:\n",
    "top_topics = model.get_topic_info().Topic.tolist()[:30]\n",
    "\n",
    "for topic in top_topics:\n",
    "    docs = reprs.get(topic, [])[:3]      # take up to 3 example docs\n",
    "    print(f\"\\nTopic {topic}:\")\n",
    "    for doc in docs:\n",
    "        # truncate to 200 chars and remove newlines\n",
    "        clean = doc.replace(\"\\n\", \" \")[:200]\n",
    "        print(\" •\", clean)\n"
   ]
  },
  {
   "cell_type": "code",
   "execution_count": 2,
   "id": "f21cb79a",
   "metadata": {},
   "outputs": [
    {
     "name": "stdout",
     "output_type": "stream",
     "text": [
      "Topic -1: mentions=15,454.0, avg_votes_up=2.25\n",
      "  Top words: game, and, the, this, to, it, of, is, you, for\n",
      "\n",
      "Topic 0: mentions=1,664.0, avg_votes_up=0.61\n",
      "  Top words: de, que, el, si, juego, la, un, jogo, es, se\n",
      "\n",
      "Topic 1: mentions=594.0, avg_votes_up=2.04\n",
      "  Top words: fps, best, of, still, classic, one, games, multiplayer, the, all\n",
      "\n",
      "Topic 2: mentions=554.0, avg_votes_up=3.16\n",
      "  Top words: shooter, person, shooting, first, shoot, shooters, best, online, of, the\n",
      "\n",
      "Topic 3: mentions=531.0, avg_votes_up=0.56\n",
      "  Top words: without, what, , , , , , , , \n",
      "\n",
      "Topic 4: mentions=504.0, avg_votes_up=4.07\n",
      "  Top words: counterstrike, and, the, of, its, that, to, is, as, 16\n",
      "\n",
      "Topic 5: mentions=418.0, avg_votes_up=7.07\n",
      "  Top words: 1010, 910, would, 1110, again, my, childhood, this, 100, game\n",
      "\n",
      "Topic 6: mentions=353.0, avg_votes_up=1.07\n",
      "  Top words: ever, best, game, duh, boom, end, true, off, , \n",
      "\n",
      "Topic 7: mentions=344.0, avg_votes_up=3.04\n",
      "  Top words: cs, go, best, love, is, version, the, css, all, time\n",
      "\n",
      "Topic 8: mentions=321.0, avg_votes_up=1.37\n",
      "  Top words: gold, old, but, spoiler, golddddddddddddd, bat, hehe, rip, moments, gg\n",
      "\n",
      "Topic 9: mentions=302.0, avg_votes_up=1.95\n",
      "  Top words: 16, cs, cs16, is, and, steam, to, my, of, playing\n",
      "\n",
      "Topic 10: mentions=294.0, avg_votes_up=2.19\n",
      "  Top words: csgo, than, better, but, this, if, it, is, game, play\n",
      "\n",
      "Topic 11: mentions=260.0, avg_votes_up=0.32\n",
      "  Top words: good, game, , , , , , , , \n",
      "\n",
      "Topic 12: mentions=258.0, avg_votes_up=0.86\n",
      "  Top words: strike, counter, is, the, best, still, to, of, it, you\n",
      "\n",
      "Topic 13: mentions=253.0, avg_votes_up=1.86\n",
      "  Top words: recommend, very, game, awesome, fun, good, nice, play, this, is\n",
      "\n",
      "Topic 14: mentions=198.0, avg_votes_up=1.96\n",
      "  Top words: gold, old, but, game, goldsrc, still, golden, best, is, this\n",
      "\n",
      "Topic 15: mentions=192.0, avg_votes_up=0.82\n",
      "  Top words: old, but, still, good, fun, game, very, its, cool, school\n",
      "\n",
      "Topic 16: mentions=191.0, avg_votes_up=1.34\n",
      "  Top words: classic, classics, masterpiece, original, nothing, say, beats, never, always, dies\n",
      "\n",
      "Topic 17: mentions=170.0, avg_votes_up=1.28\n",
      "  Top words: gold, old, but, amirite, classic, , , , , \n",
      "\n",
      "Topic 18: mentions=157.0, avg_votes_up=0.75\n",
      "  Top words: nostalgic, nostalgia, very, game, love, it, this, everytime, hits, feel\n",
      "\n",
      "Topic 19: mentions=151.0, avg_votes_up=2.05\n",
      "  Top words: servers, server, are, find, fun, still, there, on, play, dead\n",
      "\n",
      "Topic 20: mentions=134.0, avg_votes_up=1.49\n",
      "  Top words: steam, on, game, this, best, it, now, first, reason, my\n",
      "\n",
      "Topic 21: mentions=125.0, avg_votes_up=0.97\n",
      "  Top words: years, 20, after, still, 2024, playing, 10, 2022, since, 2025\n",
      "\n",
      "Topic 22: mentions=125.0, avg_votes_up=0.98\n",
      "  Top words: love, favourite, fav, my, game, this, favorite, awesome, it, all\n",
      "\n",
      "Topic 23: mentions=122.0, avg_votes_up=0.97\n",
      "  Top words: graphics, graphic, matter, bad, nice, are, not, but, gameplay, proves\n",
      "\n",
      "Topic 24: mentions=111.0, avg_votes_up=2.03\n",
      "  Top words: valve, thank, thanks, made, art, games, best, childhood, for, this\n",
      "\n",
      "Topic 25: mentions=106.0, avg_votes_up=0.58\n",
      "  Top words: zombie, mods, mod, plague, servers, zombies, escape, fun, with, mode\n",
      "\n",
      "Topic 26: mentions=105.0, avg_votes_up=0.50\n",
      "  Top words: legend, legendary, played, this, forget, game, will, be, time, most\n",
      "\n",
      "Topic 27: mentions=104.0, avg_votes_up=0.71\n",
      "  Top words: classic, still, fun, games, all, play, kicking, regretted, ever, game\n",
      "\n",
      "Topic 28: mentions=102.0, avg_votes_up=0.62\n",
      "  Top words: bots, bot, add, offline, cant, why, with, play, no, there\n",
      "\n"
     ]
    }
   ],
   "source": [
    "from bertopic import BERTopic\n",
    "import pandas as pd\n",
    "import cudf\n",
    "\n",
    "app_id = \"10\"  # your game ID\n",
    "\n",
    "# 1. Load your model\n",
    "model = BERTopic.load(f\"models/bertopic_en_M_gpu/{app_id}\")\n",
    "\n",
    "# 2. Load the CSV of topic assignments and compute counts\n",
    "df = pd.read_csv(f\"outputs/topic_labels_en_M_gpu/{app_id}.csv\")\n",
    "counts = (df.topic\n",
    "            .value_counts()\n",
    "            .rename_axis(\"topic\")\n",
    "            .reset_index(name=\"mentions\"))\n",
    "\n",
    "# 3. Load original review metadata to compute avg votes_up per topic\n",
    "reviews = cudf.read_parquet(f\"../Step_3_analysis/top_100_parquet/{app_id}.parquet\").to_pandas()[[\"review\",\"votes_up\"]]\n",
    "merged = df.merge(reviews, on=\"review\")\n",
    "sentiment = (merged.groupby(\"topic\")\n",
    "                  .votes_up.mean()\n",
    "                  .rename(\"avg_votes_up\")\n",
    "                  .reset_index())\n",
    "\n",
    "# 4. Combine counts & sentiment\n",
    "stats = counts.merge(sentiment, on=\"topic\")\n",
    "\n",
    "# 5. For each of the top 10 topics (by mentions), print stats & top-5 words\n",
    "top_topics = stats.sort_values(\"mentions\", ascending=False).topic.head(30)\n",
    "\n",
    "for tid in top_topics:\n",
    "    row = stats[stats.topic == tid].iloc[0]\n",
    "    words = [w for w, _ in model.get_topic(int(tid))][:30]  # top 5 words\n",
    "    print(f\"Topic {tid}: mentions={row.mentions:,}, avg_votes_up={row.avg_votes_up:.2f}\")\n",
    "    print(\"  Top words:\", \", \".join(words))\n",
    "    print()\n"
   ]
  },
  {
   "cell_type": "code",
   "execution_count": null,
   "id": "7dd622df",
   "metadata": {},
   "outputs": [],
   "source": []
  }
 ],
 "metadata": {
  "kernelspec": {
   "display_name": "rapids-25.04",
   "language": "python",
   "name": "python3"
  },
  "language_info": {
   "codemirror_mode": {
    "name": "ipython",
    "version": 3
   },
   "file_extension": ".py",
   "mimetype": "text/x-python",
   "name": "python",
   "nbconvert_exporter": "python",
   "pygments_lexer": "ipython3",
   "version": "3.12.10"
  }
 },
 "nbformat": 4,
 "nbformat_minor": 5
}

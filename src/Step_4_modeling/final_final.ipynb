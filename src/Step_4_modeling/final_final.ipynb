{
 "cells": [
  {
   "cell_type": "code",
   "execution_count": null,
   "id": "f2b18c4b",
   "metadata": {},
   "outputs": [],
   "source": [
    "# only if you haven't already installed these\n",
    "!pip install bertopic[all] sentence-transformers\n"
   ]
  },
  {
   "cell_type": "code",
   "execution_count": 1,
   "id": "3fd0db80",
   "metadata": {},
   "outputs": [],
   "source": [
    "import dask.dataframe as dd\n",
    "from bertopic import BERTopic\n",
    "from sentence_transformers import SentenceTransformer\n",
    "import pandas as pd\n"
   ]
  },
  {
   "cell_type": "code",
   "execution_count": null,
   "id": "6c5ac3dc",
   "metadata": {},
   "outputs": [],
   "source": [
    "# reload & filter to English if needed\n",
    "DF_PATH = '../Step_3_analysis/top_100_parquet/70.parquet'\n",
    "\n",
    "df = dd.read_parquet(DF_PATH,\n",
    "                     columns=['review', 'voted_up', 'review_language'])\n",
    "df = df[df['review_language']=='english']\n",
    "df = df.persist()\n",
    "\n",
    "# split into pos/neg and sample up to 50k each\n",
    "def sample_reviews(ddf, label, n=50000):\n",
    "    bucket = ddf[ddf['voted_up']==label]['review'].dropna()\n",
    "    total = bucket.count().compute()\n",
    "    frac  = min(1.0, n/total)\n",
    "    return bucket.sample(frac=frac).compute().tolist()\n",
    "\n",
    "likes_docs    = sample_reviews(df, True)\n",
    "dislikes_docs = sample_reviews(df, False)\n"
   ]
  },
  {
   "cell_type": "code",
   "execution_count": 3,
   "id": "306b5df0",
   "metadata": {},
   "outputs": [],
   "source": [
    "# use a lightweight SBERT model\n",
    "emb_model = SentenceTransformer(\"all-MiniLM-L6-v2\")\n",
    "\n",
    "# BERTopic will use UMAP & HDBSCAN under the hood\n",
    "topic_model = BERTopic(\n",
    "    embedding_model=emb_model,\n",
    "    n_gram_range=(1,2),\n",
    "    min_topic_size=50,\n",
    "    verbose=True\n",
    ")\n"
   ]
  },
  {
   "cell_type": "code",
   "execution_count": 4,
   "id": "c3d5ae56",
   "metadata": {},
   "outputs": [
    {
     "name": "stderr",
     "output_type": "stream",
     "text": [
      "2025-05-03 00:28:22,469 - BERTopic - Embedding - Transforming documents to embeddings.\n"
     ]
    },
    {
     "data": {
      "application/vnd.jupyter.widget-view+json": {
       "model_id": "0bdd39f0d92741c4b00c3c3598f79c73",
       "version_major": 2,
       "version_minor": 0
      },
      "text/plain": [
       "Batches:   0%|          | 0/835 [00:00<?, ?it/s]"
      ]
     },
     "metadata": {},
     "output_type": "display_data"
    },
    {
     "name": "stderr",
     "output_type": "stream",
     "text": [
      "2025-05-03 00:28:25,053 - BERTopic - Embedding - Completed ✓\n",
      "2025-05-03 00:28:25,053 - BERTopic - Dimensionality - Fitting the dimensionality reduction algorithm\n",
      "2025-05-03 00:28:34,155 - BERTopic - Dimensionality - Completed ✓\n",
      "2025-05-03 00:28:34,155 - BERTopic - Cluster - Start clustering the reduced embeddings\n",
      "huggingface/tokenizers: The current process just got forked, after parallelism has already been used. Disabling parallelism to avoid deadlocks...\n",
      "To disable this warning, you can either:\n",
      "\t- Avoid using `tokenizers` before the fork if possible\n",
      "\t- Explicitly set the environment variable TOKENIZERS_PARALLELISM=(true | false)\n",
      "huggingface/tokenizers: The current process just got forked, after parallelism has already been used. Disabling parallelism to avoid deadlocks...\n",
      "To disable this warning, you can either:\n",
      "\t- Avoid using `tokenizers` before the fork if possible\n",
      "\t- Explicitly set the environment variable TOKENIZERS_PARALLELISM=(true | false)\n",
      "huggingface/tokenizers: The current process just got forked, after parallelism has already been used. Disabling parallelism to avoid deadlocks...\n",
      "To disable this warning, you can either:\n",
      "\t- Avoid using `tokenizers` before the fork if possible\n",
      "\t- Explicitly set the environment variable TOKENIZERS_PARALLELISM=(true | false)\n",
      "huggingface/tokenizers: The current process just got forked, after parallelism has already been used. Disabling parallelism to avoid deadlocks...\n",
      "To disable this warning, you can either:\n",
      "\t- Avoid using `tokenizers` before the fork if possible\n",
      "\t- Explicitly set the environment variable TOKENIZERS_PARALLELISM=(true | false)\n",
      "huggingface/tokenizers: The current process just got forked, after parallelism has already been used. Disabling parallelism to avoid deadlocks...\n",
      "To disable this warning, you can either:\n",
      "\t- Avoid using `tokenizers` before the fork if possible\n",
      "\t- Explicitly set the environment variable TOKENIZERS_PARALLELISM=(true | false)\n",
      "2025-05-03 00:28:35,178 - BERTopic - Cluster - Completed ✓\n",
      "2025-05-03 00:28:35,181 - BERTopic - Representation - Fine-tuning topics using representation models.\n",
      "2025-05-03 00:28:35,625 - BERTopic - Representation - Completed ✓\n"
     ]
    },
    {
     "name": "stdout",
     "output_type": "stream",
     "text": [
      "Top ‘like’ topics by frequency:\n"
     ]
    },
    {
     "data": {
      "text/html": [
       "<div>\n",
       "<style scoped>\n",
       "    .dataframe tbody tr th:only-of-type {\n",
       "        vertical-align: middle;\n",
       "    }\n",
       "\n",
       "    .dataframe tbody tr th {\n",
       "        vertical-align: top;\n",
       "    }\n",
       "\n",
       "    .dataframe thead th {\n",
       "        text-align: right;\n",
       "    }\n",
       "</style>\n",
       "<table border=\"1\" class=\"dataframe\">\n",
       "  <thead>\n",
       "    <tr style=\"text-align: right;\">\n",
       "      <th></th>\n",
       "      <th>Topic</th>\n",
       "      <th>Count</th>\n",
       "      <th>Name</th>\n",
       "      <th>Representation</th>\n",
       "      <th>Representative_Docs</th>\n",
       "    </tr>\n",
       "  </thead>\n",
       "  <tbody>\n",
       "    <tr>\n",
       "      <th>0</th>\n",
       "      <td>-1</td>\n",
       "      <td>7237</td>\n",
       "      <td>-1_the_in_this_game</td>\n",
       "      <td>[the, in, this, game, it, and, in the, to, thi...</td>\n",
       "      <td>[One of the best game ever, Started playing CS...</td>\n",
       "    </tr>\n",
       "    <tr>\n",
       "      <th>1</th>\n",
       "      <td>0</td>\n",
       "      <td>1964</td>\n",
       "      <td>0_de_que_el_la</td>\n",
       "      <td>[de, que, el, la, juego, si, un, es, jogo, joc]</td>\n",
       "      <td>[El mejor juego de shooter en la historia en s...</td>\n",
       "    </tr>\n",
       "    <tr>\n",
       "      <th>2</th>\n",
       "      <td>1</td>\n",
       "      <td>1181</td>\n",
       "      <td>1_fps_best fps_fps game_best</td>\n",
       "      <td>[fps, best fps, fps game, best, ever, the best...</td>\n",
       "      <td>[Best FPS game ever, Best FPS game ever 3, the...</td>\n",
       "    </tr>\n",
       "    <tr>\n",
       "      <th>3</th>\n",
       "      <td>2</td>\n",
       "      <td>1085</td>\n",
       "      <td>2_counterstrike_the_and_of</td>\n",
       "      <td>[counterstrike, the, and, of, to, is, that, in...</td>\n",
       "      <td>[alfLife CounterStrike is one of the most unus...</td>\n",
       "    </tr>\n",
       "    <tr>\n",
       "      <th>4</th>\n",
       "      <td>3</td>\n",
       "      <td>852</td>\n",
       "      <td>3_shooter_person_first person_shooting</td>\n",
       "      <td>[shooter, person, first person, shooting, shoo...</td>\n",
       "      <td>[Best first person shooter game in the world, ...</td>\n",
       "    </tr>\n",
       "    <tr>\n",
       "      <th>5</th>\n",
       "      <td>4</td>\n",
       "      <td>797</td>\n",
       "      <td>4_strike_counter_counter strike_strike 16</td>\n",
       "      <td>[strike, counter, counter strike, strike 16, s...</td>\n",
       "      <td>[counter strike, counter strike, counter strike]</td>\n",
       "    </tr>\n",
       "    <tr>\n",
       "      <th>6</th>\n",
       "      <td>5</td>\n",
       "      <td>697</td>\n",
       "      <td>5_cs 16_16_cs_16 is</td>\n",
       "      <td>[cs 16, 16, cs, 16 is, is, cs16, and, the, to,...</td>\n",
       "      <td>[cs 16 CS 16, CS 16, CS 16]</td>\n",
       "    </tr>\n",
       "    <tr>\n",
       "      <th>7</th>\n",
       "      <td>6</td>\n",
       "      <td>676</td>\n",
       "      <td>6_1010_game 1010_1010 would_would</td>\n",
       "      <td>[1010, game 1010, 1010 would, would, game, 101...</td>\n",
       "      <td>[1010, 1010, 1010]</td>\n",
       "    </tr>\n",
       "    <tr>\n",
       "      <th>8</th>\n",
       "      <td>7</td>\n",
       "      <td>576</td>\n",
       "      <td>7_but gold_gold old_gold_old but</td>\n",
       "      <td>[but gold, gold old, gold, old but, old, but, ...</td>\n",
       "      <td>[Old but gold, Old but gold, old but gold]</td>\n",
       "    </tr>\n",
       "    <tr>\n",
       "      <th>9</th>\n",
       "      <td>8</td>\n",
       "      <td>524</td>\n",
       "      <td>8_csgo_than csgo_better_than</td>\n",
       "      <td>[csgo, than csgo, better, than, this, but, thi...</td>\n",
       "      <td>[CSGO, CSGO, csgo]</td>\n",
       "    </tr>\n",
       "  </tbody>\n",
       "</table>\n",
       "</div>"
      ],
      "text/plain": [
       "   Topic  Count                                       Name  \\\n",
       "0     -1   7237                        -1_the_in_this_game   \n",
       "1      0   1964                             0_de_que_el_la   \n",
       "2      1   1181               1_fps_best fps_fps game_best   \n",
       "3      2   1085                 2_counterstrike_the_and_of   \n",
       "4      3    852     3_shooter_person_first person_shooting   \n",
       "5      4    797  4_strike_counter_counter strike_strike 16   \n",
       "6      5    697                        5_cs 16_16_cs_16 is   \n",
       "7      6    676          6_1010_game 1010_1010 would_would   \n",
       "8      7    576           7_but gold_gold old_gold_old but   \n",
       "9      8    524               8_csgo_than csgo_better_than   \n",
       "\n",
       "                                      Representation  \\\n",
       "0  [the, in, this, game, it, and, in the, to, thi...   \n",
       "1    [de, que, el, la, juego, si, un, es, jogo, joc]   \n",
       "2  [fps, best fps, fps game, best, ever, the best...   \n",
       "3  [counterstrike, the, and, of, to, is, that, in...   \n",
       "4  [shooter, person, first person, shooting, shoo...   \n",
       "5  [strike, counter, counter strike, strike 16, s...   \n",
       "6  [cs 16, 16, cs, 16 is, is, cs16, and, the, to,...   \n",
       "7  [1010, game 1010, 1010 would, would, game, 101...   \n",
       "8  [but gold, gold old, gold, old but, old, but, ...   \n",
       "9  [csgo, than csgo, better, than, this, but, thi...   \n",
       "\n",
       "                                 Representative_Docs  \n",
       "0  [One of the best game ever, Started playing CS...  \n",
       "1  [El mejor juego de shooter en la historia en s...  \n",
       "2  [Best FPS game ever, Best FPS game ever 3, the...  \n",
       "3  [alfLife CounterStrike is one of the most unus...  \n",
       "4  [Best first person shooter game in the world, ...  \n",
       "5   [counter strike, counter strike, counter strike]  \n",
       "6                        [cs 16 CS 16, CS 16, CS 16]  \n",
       "7                                 [1010, 1010, 1010]  \n",
       "8         [Old but gold, Old but gold, old but gold]  \n",
       "9                                 [CSGO, CSGO, csgo]  "
      ]
     },
     "metadata": {},
     "output_type": "display_data"
    },
    {
     "name": "stdout",
     "output_type": "stream",
     "text": [
      "\n",
      "Topic 0 — terms: ['de', 'que', 'el', 'la', 'juego', 'si', 'un', 'es', 'jogo', 'joc']\n",
      "Example review: es number uno high damage\n",
      "\n",
      "Topic 1 — terms: ['fps', 'best fps', 'fps game', 'best', 'ever', 'the best', 'fps games', 'fps ever', 'of', 'the']\n",
      "Example review: One of my first fps online shooter games Ive ever played and the best one\n",
      "\n",
      "Topic 2 — terms: ['counterstrike', 'the', 'and', 'of', 'to', 'is', 'that', 'in', 'as', 'its']\n",
      "Example review: Since then there has been nothing fundamentally new in multiplayer cooperative shooters except for eyebleeding effects and ridiculous mechanics Why look for something better when there is CounterStrike\n",
      "\n",
      "Topic 3 — terms: ['shooter', 'person', 'first person', 'shooting', 'shooter game', 'first', 'person shooter', 'best', 'best shooter', 'the']\n",
      "Example review: One of the most legendary shooters of the last decade A competitive shooter of the combination of tactics teamwork game knowledge and aim\n",
      "\n",
      "Topic 4 — terms: ['strike', 'counter', 'counter strike', 'strike 16', 'strike is', 'the', 'is', 'and', 'of', 'to']\n",
      "Example review: Counter Strike\n"
     ]
    }
   ],
   "source": [
    "# Cell 4 (Option B): Fit & inspect “Likes” topics manually\n",
    "likes_topics, likes_probs = topic_model.fit_transform(likes_docs)\n",
    "\n",
    "likes_info = topic_model.get_topic_info().head(10)\n",
    "print(\"Top ‘like’ topics by frequency:\")\n",
    "display(likes_info)\n",
    "\n",
    "for topic_id in likes_info.Topic.iloc[1:6]:\n",
    "    terms = topic_model.get_topic(topic_id)\n",
    "    # find first index where likes_topics == topic_id\n",
    "    idx = next((i for i, t in enumerate(likes_topics) if t == topic_id), None)\n",
    "    example = likes_docs[idx] if idx is not None else \"(no example)\"\n",
    "    print(f\"\\nTopic {topic_id} — terms: {[t for t,_ in terms]}\")\n",
    "    print(\"Example review:\", example)\n"
   ]
  },
  {
   "cell_type": "code",
   "execution_count": 5,
   "id": "02b1368c",
   "metadata": {},
   "outputs": [
    {
     "name": "stderr",
     "output_type": "stream",
     "text": [
      "2025-05-03 00:28:35,834 - BERTopic - Embedding - Transforming documents to embeddings.\n"
     ]
    },
    {
     "data": {
      "application/vnd.jupyter.widget-view+json": {
       "model_id": "3ece2220b46b40b6810f38a2f7536911",
       "version_major": 2,
       "version_minor": 0
      },
      "text/plain": [
       "Batches:   0%|          | 0/31 [00:00<?, ?it/s]"
      ]
     },
     "metadata": {},
     "output_type": "display_data"
    },
    {
     "name": "stderr",
     "output_type": "stream",
     "text": [
      "2025-05-03 00:28:35,960 - BERTopic - Embedding - Completed ✓\n",
      "2025-05-03 00:28:35,961 - BERTopic - Dimensionality - Fitting the dimensionality reduction algorithm\n",
      "2025-05-03 00:28:37,445 - BERTopic - Dimensionality - Completed ✓\n",
      "2025-05-03 00:28:37,446 - BERTopic - Cluster - Start clustering the reduced embeddings\n",
      "2025-05-03 00:28:37,462 - BERTopic - Cluster - Completed ✓\n",
      "2025-05-03 00:28:37,463 - BERTopic - Representation - Fine-tuning topics using representation models.\n",
      "2025-05-03 00:28:37,500 - BERTopic - Representation - Completed ✓\n"
     ]
    },
    {
     "name": "stdout",
     "output_type": "stream",
     "text": [
      "Top ‘dislike’ topics by frequency:\n"
     ]
    },
    {
     "data": {
      "text/html": [
       "<div>\n",
       "<style scoped>\n",
       "    .dataframe tbody tr th:only-of-type {\n",
       "        vertical-align: middle;\n",
       "    }\n",
       "\n",
       "    .dataframe tbody tr th {\n",
       "        vertical-align: top;\n",
       "    }\n",
       "\n",
       "    .dataframe thead th {\n",
       "        text-align: right;\n",
       "    }\n",
       "</style>\n",
       "<table border=\"1\" class=\"dataframe\">\n",
       "  <thead>\n",
       "    <tr style=\"text-align: right;\">\n",
       "      <th></th>\n",
       "      <th>Topic</th>\n",
       "      <th>Count</th>\n",
       "      <th>Name</th>\n",
       "      <th>Representation</th>\n",
       "      <th>Representative_Docs</th>\n",
       "    </tr>\n",
       "  </thead>\n",
       "  <tbody>\n",
       "    <tr>\n",
       "      <th>0</th>\n",
       "      <td>0</td>\n",
       "      <td>886</td>\n",
       "      <td>0_the_game_and_to</td>\n",
       "      <td>[the, game, and, to, this, is, you, it, of, in]</td>\n",
       "      <td>[Your Mom probably would enjoy this Kids Every...</td>\n",
       "    </tr>\n",
       "    <tr>\n",
       "      <th>1</th>\n",
       "      <td>1</td>\n",
       "      <td>76</td>\n",
       "      <td>1_de_que_jogo_os</td>\n",
       "      <td>[de, que, jogo, os, eu, no, com, na, se, voc]</td>\n",
       "      <td>[no consegui configurar mouse bugado caindo do...</td>\n",
       "    </tr>\n",
       "  </tbody>\n",
       "</table>\n",
       "</div>"
      ],
      "text/plain": [
       "   Topic  Count               Name  \\\n",
       "0      0    886  0_the_game_and_to   \n",
       "1      1     76   1_de_que_jogo_os   \n",
       "\n",
       "                                    Representation  \\\n",
       "0  [the, game, and, to, this, is, you, it, of, in]   \n",
       "1    [de, que, jogo, os, eu, no, com, na, se, voc]   \n",
       "\n",
       "                                 Representative_Docs  \n",
       "0  [Your Mom probably would enjoy this Kids Every...  \n",
       "1  [no consegui configurar mouse bugado caindo do...  "
      ]
     },
     "metadata": {},
     "output_type": "display_data"
    },
    {
     "name": "stdout",
     "output_type": "stream",
     "text": [
      "\n",
      "Topic 1 — terms: ['de', 'que', 'jogo', 'os', 'eu', 'no', 'com', 'na', 'se', 'voc']\n",
      "Example review: igra dlya pidorov konchenee igri ne bivaet autisti tolko mogyt igrat v eto dermo\n"
     ]
    }
   ],
   "source": [
    "# Cell 5: Fit & Inspect “Dislikes” topics manually (Option B)\n",
    "\n",
    "# Re-initialize a fresh BERTopic with the same settings\n",
    "dislike_model = BERTopic(\n",
    "    embedding_model=emb_model,\n",
    "    n_gram_range=(1,2),\n",
    "    min_topic_size=50,\n",
    "    verbose=True\n",
    ")\n",
    "\n",
    "# Fit on the negative reviews\n",
    "dis_topics, dis_probs = dislike_model.fit_transform(dislikes_docs)\n",
    "\n",
    "# Show top-10 topic info\n",
    "dis_info = dislike_model.get_topic_info().head(10)\n",
    "print(\"Top ‘dislike’ topics by frequency:\")\n",
    "display(dis_info)\n",
    "\n",
    "# For each of the next 5 topics, print its top terms and a representative example\n",
    "for topic_id in dis_info.Topic.iloc[1:6]:  # skip -1 (outliers)\n",
    "    terms = dislike_model.get_topic(topic_id)\n",
    "    # find first index where dis_topics == topic_id\n",
    "    idx = next((i for i, t in enumerate(dis_topics) if t == topic_id), None)\n",
    "    example = dislikes_docs[idx] if idx is not None else \"(no example)\"\n",
    "    print(f\"\\nTopic {topic_id} — terms: {[t for t,_ in terms]}\")\n",
    "    print(\"Example review:\", example)\n"
   ]
  },
  {
   "cell_type": "code",
   "execution_count": null,
   "id": "db8fb5e0",
   "metadata": {},
   "outputs": [
    {
     "name": "stderr",
     "output_type": "stream",
     "text": [
      "Exception ignored in: <function ResourceTracker.__del__ at 0x7d33fdd3b1a0>\n",
      "Traceback (most recent call last):\n",
      "  File \"/home/rgmatr1x/anaconda3/envs/rapids-25.04/lib/python3.12/multiprocessing/resource_tracker.py\", line 77, in __del__\n",
      "  File \"/home/rgmatr1x/anaconda3/envs/rapids-25.04/lib/python3.12/multiprocessing/resource_tracker.py\", line 86, in _stop\n",
      "  File \"/home/rgmatr1x/anaconda3/envs/rapids-25.04/lib/python3.12/multiprocessing/resource_tracker.py\", line 111, in _stop_locked\n",
      "ChildProcessError: [Errno 10] No child processes\n",
      "Exception ignored in: <function ResourceTracker.__del__ at 0x73865004f1a0>\n",
      "Traceback (most recent call last):\n",
      "  File \"/home/rgmatr1x/anaconda3/envs/rapids-25.04/lib/python3.12/multiprocessing/resource_tracker.py\", line 77, in __del__\n",
      "  File \"/home/rgmatr1x/anaconda3/envs/rapids-25.04/lib/python3.12/multiprocessing/resource_tracker.py\", line 86, in _stop\n",
      "  File \"/home/rgmatr1x/anaconda3/envs/rapids-25.04/lib/python3.12/multiprocessing/resource_tracker.py\", line 111, in _stop_locked\n",
      "ChildProcessError: [Errno 10] No child processes\n",
      "Exception ignored in: <function ResourceTracker.__del__ at 0x7bb25eeaf1a0>\n",
      "Traceback (most recent call last):\n",
      "  File \"/home/rgmatr1x/anaconda3/envs/rapids-25.04/lib/python3.12/multiprocessing/resource_tracker.py\", line 77, in __del__\n",
      "  File \"/home/rgmatr1x/anaconda3/envs/rapids-25.04/lib/python3.12/multiprocessing/resource_tracker.py\", line 86, in _stop\n",
      "  File \"/home/rgmatr1x/anaconda3/envs/rapids-25.04/lib/python3.12/multiprocessing/resource_tracker.py\", line 111, in _stop_locked\n",
      "ChildProcessError: [Errno 10] No child processes\n",
      "Exception ignored in: <function ResourceTracker.__del__ at 0x79075ec4f1a0>\n",
      "Traceback (most recent call last):\n",
      "  File \"/home/rgmatr1x/anaconda3/envs/rapids-25.04/lib/python3.12/multiprocessing/resource_tracker.py\", line 77, in __del__\n",
      "  File \"/home/rgmatr1x/anaconda3/envs/rapids-25.04/lib/python3.12/multiprocessing/resource_tracker.py\", line 86, in _stop\n",
      "  File \"/home/rgmatr1x/anaconda3/envs/rapids-25.04/lib/python3.12/multiprocessing/resource_tracker.py\", line 111, in _stop_locked\n",
      "ChildProcessError: [Errno 10] No child processes\n"
     ]
    }
   ],
   "source": [
    "# Save the top-10 topics + term lists to JSON\n",
    "likes_out = {\n",
    "    int(row.Topic): topic_model.get_topic(int(row.Topic))\n",
    "    for _, row in likes_info.iloc[1:11].iterrows()\n",
    "}\n",
    "dis_out = {\n",
    "    int(row.Topic): dislike_model.get_topic(int(row.Topic))\n",
    "    for _, row in dis_info.iloc[1:11].iterrows()\n",
    "}\n",
    "\n",
    "import json\n",
    "with open(\"bertinsights_likes.json\",    \"w\") as f: json.dump(likes_out, f, indent=2)\n",
    "with open(\"bertinsights_dislikes.json\", \"w\") as f: json.dump(dis_out,   f, indent=2)\n"
   ]
  },
  {
   "cell_type": "code",
   "execution_count": null,
   "id": "8eb9a5de",
   "metadata": {},
   "outputs": [],
   "source": []
  },
  {
   "cell_type": "code",
   "execution_count": null,
   "id": "8eae60c5",
   "metadata": {},
   "outputs": [],
   "source": []
  }
 ],
 "metadata": {
  "kernelspec": {
   "display_name": "rapids-25.04",
   "language": "python",
   "name": "python3"
  },
  "language_info": {
   "codemirror_mode": {
    "name": "ipython",
    "version": 3
   },
   "file_extension": ".py",
   "mimetype": "text/x-python",
   "name": "python",
   "nbconvert_exporter": "python",
   "pygments_lexer": "ipython3",
   "version": "3.12.10"
  }
 },
 "nbformat": 4,
 "nbformat_minor": 5
}

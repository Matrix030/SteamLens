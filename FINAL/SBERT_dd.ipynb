{
 "cells": [
  {
   "cell_type": "code",
   "execution_count": 1,
   "id": "0d0651ae",
   "metadata": {},
   "outputs": [
    {
     "name": "stderr",
     "output_type": "stream",
     "text": [
      "2025-05-06 22:20:03,783 - distributed.shuffle._scheduler_plugin - WARNING - Shuffle fd06a9268a7dd58d501f65527355b6cf initialized by task ('shuffle-transfer-fd06a9268a7dd58d501f65527355b6cf', 0) executed on worker tcp://127.0.0.1:43407\n",
      "2025-05-06 22:20:40,906 - distributed.shuffle._scheduler_plugin - WARNING - Shuffle fd06a9268a7dd58d501f65527355b6cf deactivated due to stimulus 'task-finished-1746584440.905727'\n"
     ]
    }
   ],
   "source": [
    "# Cell 1: Imports & Dask Client\n",
    "import os\n",
    "from dask.distributed import Client\n",
    "import dask.dataframe as dd\n",
    "from sentence_transformers import SentenceTransformer\n",
    "import numpy as np\n",
    "from sklearn.metrics.pairwise import cosine_similarity\n",
    "\n",
    "# Start a local Dask client\n",
    "client = Client()"
   ]
  },
  {
   "cell_type": "code",
   "execution_count": 2,
   "id": "b911975a",
   "metadata": {},
   "outputs": [],
   "source": [
    "# Cell 2: Load Theme Dictionary & Precompute Embeddings\n",
    "import json\n",
    "\n",
    "# Load per-game theme keywords\n",
    "with open('game_themes.json', 'r') as f:\n",
    "    raw = json.load(f)\n",
    "GAME_THEMES = {int(appid): themes for appid, themes in raw.items()}\n",
    "\n",
    "# Initialize SBERT embedder\n",
    "embedder = SentenceTransformer('all-MiniLM-L6-v2')\n",
    "\n",
    "# Precompute theme embeddings for each game\n",
    "THEME_EMBEDDINGS = {}\n",
    "for appid, themes in GAME_THEMES.items():\n",
    "    emb_list = []\n",
    "    for theme, seeds in themes.items():\n",
    "        seed_emb = embedder.encode(seeds, convert_to_numpy=True)\n",
    "        emb_list.append(seed_emb.mean(axis=0))\n",
    "    THEME_EMBEDDINGS[appid] = np.vstack(emb_list)\n",
    "\n"
   ]
  },
  {
   "cell_type": "code",
   "execution_count": 3,
   "id": "2e133960",
   "metadata": {},
   "outputs": [],
   "source": [
    "# Cell 3: Read All Parquet Files into a Dask DataFrame\n",
    "# Assumes all game parquet files are in the same folder\n",
    "ddf = dd.read_parquet(\n",
    "    'parquet_output_theme_combo/*.parquet',\n",
    "    columns=['steam_appid', 'review', 'review_language', 'voted_up']\n",
    ")\n"
   ]
  },
  {
   "cell_type": "code",
   "execution_count": 4,
   "id": "7e9ff75b",
   "metadata": {},
   "outputs": [],
   "source": [
    "# Cell 4: Filter & Clean Data\n",
    "# Keep only English reviews and drop missing text\n",
    "ddf = ddf[ddf['review_language'] == 'english']\n",
    "ddf = ddf.dropna(subset=['review'])\n",
    "\n"
   ]
  },
  {
   "cell_type": "code",
   "execution_count": 5,
   "id": "f5aea5f9",
   "metadata": {},
   "outputs": [],
   "source": [
    "# Cell 5: Define Partition-wise Topic Assignment\n",
    "model = SentenceTransformer('all-MiniLM-L6-v2')  # reused on each worker\n",
    "\n",
    "def assign_topic(df_partition):\n",
    "    # If no rows, return as-is\n",
    "    if df_partition.empty:\n",
    "        df_partition['topic_id'] = []\n",
    "        return df_partition\n",
    "\n",
    "    reviews = df_partition['review'].tolist()\n",
    "    # Compute embeddings in one go\n",
    "    review_embeds = embedder.encode(reviews, convert_to_numpy=True, batch_size=64)\n",
    "    \n",
    "    # Assign each review to its game-specific theme\n",
    "    topic_ids = []\n",
    "    for idx, appid in enumerate(df_partition['steam_appid']):\n",
    "        theme_embs = THEME_EMBEDDINGS[int(appid)]\n",
    "        sims = cosine_similarity(review_embeds[idx:idx+1], theme_embs)\n",
    "        topic_ids.append(int(sims.argmax()))\n",
    "    \n",
    "    df_partition['topic_id'] = topic_ids\n",
    "    return df_partition\n",
    "\n",
    "# Apply to each partition; specify output metadata\n",
    "meta = ddf._meta.assign(topic_id=np.int64())\n",
    "ddf_with_topic = ddf.map_partitions(assign_topic, meta=meta)"
   ]
  },
  {
   "cell_type": "code",
   "execution_count": 6,
   "id": "cc1450bb",
   "metadata": {},
   "outputs": [
    {
     "name": "stderr",
     "output_type": "stream",
     "text": [
      "/home/rgmatr1x/anaconda3/envs/rapids-25.04/lib/python3.12/site-packages/distributed/client.py:3370: UserWarning: Sending large graph of size 87.26 MiB.\n",
      "This may cause some slowdown.\n",
      "Consider loading the data with Dask directly\n",
      " or using futures or delayed objects to embed the data into the graph without repetition.\n",
      "See also https://docs.dask.org/en/stable/best-practices.html#load-data-with-dask for more information.\n",
      "  warnings.warn(\n"
     ]
    }
   ],
   "source": [
    "# Cell 6: Aggregate Counts, Likes, and Collect Reviews per Theme\n",
    "# Count reviews and sum votes per (game, theme)\n",
    "agg = ddf_with_topic.groupby(['steam_appid', 'topic_id']).agg(\n",
    "    review_count=('review', 'count'),\n",
    "    likes_sum=('voted_up', 'sum')\n",
    ")\n",
    "\n",
    "# Also collect reviews into lists per group\n",
    "reviews_series = ddf_with_topic.groupby(['steam_appid', 'topic_id'])['review'] \\\n",
    "    .apply(lambda x: list(x), meta=('review', object))\n",
    "\n",
    "# Compute both in parallel\n",
    "agg_df, reviews_df = dd.compute(agg, reviews_series)\n",
    "\n",
    "# Convert reviews series to DataFrame\n",
    "reviews_df = reviews_df.reset_index().rename(columns={'review': 'Reviews'})\n",
    "\n",
    "# Convert aggregation to DataFrame\n",
    "agg_df = agg_df.reset_index()"
   ]
  },
  {
   "cell_type": "code",
   "execution_count": 7,
   "id": "a2a2c3c8",
   "metadata": {},
   "outputs": [],
   "source": [
    "# Cell 7: Construct Final Report DataFrame\n",
    "import pandas as pd\n",
    "\n",
    "# Merge counts, likes, and reviews\n",
    "report_df = pd.merge(\n",
    "    agg_df,\n",
    "    reviews_df,\n",
    "    on=['steam_appid', 'topic_id'],\n",
    "    how='left'\n",
    ")\n",
    "\n",
    "# Build the final output structure\n",
    "rows = []\n",
    "for _, row in report_df.iterrows():\n",
    "    appid = int(row['steam_appid'])\n",
    "    tid = int(row['topic_id'])\n",
    "    theme_name = list(GAME_THEMES[appid].keys())[tid]\n",
    "    total = int(row['review_count'])\n",
    "    likes = int(row['likes_sum'])\n",
    "    like_ratio = f\"{(likes / total * 100):.1f}%\" if total > 0 else '0%'\n",
    "    rows.append({\n",
    "        'steam_appid': appid,\n",
    "        'Theme': theme_name,\n",
    "        '#Reviews': total,\n",
    "        'LikeRatio': like_ratio,\n",
    "        'Reviews': row['Reviews']\n",
    "    })\n",
    "\n",
    "final_report = pd.DataFrame(rows)\n",
    "\n",
    "# Optionally, save to CSV\n",
    "final_report.to_csv('output_csvs/SBERT_DD_report.csv', index=False)"
   ]
  },
  {
   "cell_type": "code",
   "execution_count": 8,
   "id": "efd04e0c",
   "metadata": {},
   "outputs": [
    {
     "name": "stdout",
     "output_type": "stream",
     "text": [
      "   steam_appid        Theme  #Reviews LikeRatio  \\\n",
      "0           10    community      2511     96.2%   \n",
      "1           10   anti_cheat      3654     93.7%   \n",
      "2           10  performance      2527     91.7%   \n",
      "3           10  competitive      9644     98.1%   \n",
      "4           10     gameplay      2416     96.9%   \n",
      "\n",
      "                                             Reviews  \n",
      "0  [Actually the best game in this world. It stil...  \n",
      "1  [So here's a little story.\\nBefore my dad and ...  \n",
      "2  [How to correctly play this game:\\n-Noisiest f...  \n",
      "3  [[h1] Once a fire lit in my heart and now it w...  \n",
      "4  [Counter-Strike won't ever be canceled.\\nCount...  \n"
     ]
    }
   ],
   "source": [
    "\n",
    "# Cell 8: View the Report\n",
    "print(final_report.head())"
   ]
  },
  {
   "cell_type": "code",
   "execution_count": null,
   "id": "e3176a90",
   "metadata": {},
   "outputs": [],
   "source": []
  }
 ],
 "metadata": {
  "kernelspec": {
   "display_name": "rapids-25.04",
   "language": "python",
   "name": "python3"
  },
  "language_info": {
   "codemirror_mode": {
    "name": "ipython",
    "version": 3
   },
   "file_extension": ".py",
   "mimetype": "text/x-python",
   "name": "python",
   "nbconvert_exporter": "python",
   "pygments_lexer": "ipython3",
   "version": "3.12.10"
  }
 },
 "nbformat": 4,
 "nbformat_minor": 5
}

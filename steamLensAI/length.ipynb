{
 "cells": [
  {
   "cell_type": "code",
   "execution_count": null,
   "id": "b314b51d",
   "metadata": {},
   "outputs": [
    {
     "ename": "",
     "evalue": "",
     "output_type": "error",
     "traceback": [
      "\u001b[1;31mRunning cells with 'steamLensAI (Python 3.13.3)' requires the ipykernel package.\n",
      "\u001b[1;31mInstall 'ipykernel' into the Python environment. \n",
      "\u001b[1;31mCommand: '/home/rgmatr1x/projects/steamETL/steamLensAI/.venv/bin/python -m pip install ipykernel -U --force-reinstall'"
     ]
    }
   ],
   "source": [
    "import dask.dataframe as dd\n",
    "import pandas as pd\n",
    "import numpy as np\n",
    "\n",
    "\n",
    "\n",
    "\n",
    "df = dd.read_parquet(\"/home/rgmatr1x/Projects/steamETL/DEMO STUFF/1966720.parquet\")\n",
    "df = df[df['review_language'] == 'english']\n",
    "# Check the shape before sampling\n",
    "total_rows = df.map_partitions(len).compute()\n",
    "total_rows = total_rows.sum()\n",
    "logger.info(f\"Total rows before sampling: {total_rows}\")\n",
    "\n",
    "# Sample 10% of the data and convert to pandas\n",
    "# Using random_state for reproducibility\n",
    "df_sample = df.sample(frac=0.1, random_state=42).compute()\n",
    "df_sample.head()"
   ]
  },
  {
   "cell_type": "code",
   "execution_count": null,
   "id": "37bbb8cf",
   "metadata": {},
   "outputs": [],
   "source": []
  },
  {
   "cell_type": "code",
   "execution_count": null,
   "id": "46914d15",
   "metadata": {},
   "outputs": [],
   "source": []
  }
 ],
 "metadata": {
  "kernelspec": {
   "display_name": "steamLensAI",
   "language": "python",
   "name": "python3"
  },
  "language_info": {
   "codemirror_mode": {
    "name": "ipython",
    "version": 3
   },
   "file_extension": ".py",
   "mimetype": "text/x-python",
   "name": "python",
   "nbconvert_exporter": "python",
   "pygments_lexer": "ipython3",
   "version": "3.13.3"
  }
 },
 "nbformat": 4,
 "nbformat_minor": 5
}
